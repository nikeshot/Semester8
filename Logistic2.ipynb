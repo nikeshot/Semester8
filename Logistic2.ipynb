{
 "cells": [
  {
   "cell_type": "code",
   "execution_count": 219,
   "metadata": {
    "collapsed": true
   },
   "outputs": [],
   "source": [
    "import sys, re\n",
    "from scipy.optimize.optimize import fmin_cg, fmin_bfgs, fmin\n",
    "import numpy as np\n",
    "import matplotlib.pyplot as plt\n",
    "from numpy import loadtxt, where, zeros, e, array, log, ones, mean, where\n",
    "from pylab import scatter, show, legend, xlabel, ylabel, plot\n",
    "from scipy.optimize import fmin_bfgs\n",
    "import math \n",
    "import pandas as pd\n",
    "\n",
    "def sigmoid(X):\n",
    "    g=1/(1+np.exp(-X))\n",
    "    return g\n",
    "\n",
    "def costFunction(theta,X,y):\n",
    "    theta.shape = (1, X.shape[1])\n",
    "    m = y.size\n",
    "    h = sigmoid(X.dot(theta.conj().transpose()))\n",
    "    first = ((-y).T.dot(log(h)))\n",
    "    second = (1-y).T.dot(log(1-h))\n",
    "    J =(first - second)/m\n",
    "    return J.sum()\n",
    "\n",
    "def gradFunction(theta,X,y):\n",
    "    theta.shape = (1, X.shape[1])\n",
    "    grad = zeros(X.shape[1])\n",
    "    h = sigmoid(X.dot(theta.conj().transpose()))\n",
    "    delta = h - y\n",
    "    l = grad.size\n",
    "    for i in range(l):\n",
    "        sumdelta = delta.conj().transpose().dot(X[:, i])\n",
    "        grad[i] = (1.0 / m) * sumdelta * (-1)\n",
    "        theta.shape = (X.shape[1],)\n",
    "    return grad"
   ]
  },
  {
   "cell_type": "code",
   "execution_count": null,
   "metadata": {
    "collapsed": false
   },
   "outputs": [],
   "source": [
    "data = pd.read_excel(\"C:\\Users\\Niku\\Documents\\dataset\\dataset_40_attributes5.xlsx\")\n",
    "#X = data[['householdsize', 'medIncome', 'PctSpeakEnglOnly', 'PctPersDenseHous']]\n",
    "X = data\n",
    "y = data['Category']\n",
    "pos = where(y == 1)\n",
    "neg = where(y == 0)\n",
    "X = np.matrix(X)\n",
    "y = np.matrix(y)"
   ]
  },
  {
   "cell_type": "code",
   "execution_count": null,
   "metadata": {
    "collapsed": false
   },
   "outputs": [],
   "source": [
    "print X.shape \n",
    "print y.shape"
   ]
  },
  {
   "cell_type": "code",
   "execution_count": 196,
   "metadata": {
    "collapsed": false
   },
   "outputs": [],
   "source": [
    "m, n = X.shape\n",
    "y.shape = (m, 1)\n",
    "#i = ones(shape=(m, 3))\n",
    "#i[:, 1:3] = X"
   ]
  },
  {
   "cell_type": "code",
   "execution_count": 197,
   "metadata": {
    "collapsed": false
   },
   "outputs": [
    {
     "name": "stdout",
     "output_type": "stream",
     "text": [
      "(1992L, 5L)\n"
     ]
    }
   ],
   "source": [
    "rows = X.shape[0]\n",
    "X = np.insert(X, 0, values=np.ones(rows), axis=1)\n",
    "print X.shape"
   ]
  },
  {
   "cell_type": "code",
   "execution_count": 210,
   "metadata": {
    "collapsed": false
   },
   "outputs": [
    {
     "name": "stdout",
     "output_type": "stream",
     "text": [
      "(5L,)\n",
      "Warning: Desired error not necessarily achieved due to precision loss.\n",
      "         Current function value: nan\n",
      "         Iterations: 1\n",
      "         Function evaluations: 112\n",
      "         Gradient evaluations: 112\n"
     ]
    },
    {
     "name": "stderr",
     "output_type": "stream",
     "text": [
      "C:\\ProgramData\\Anaconda2\\lib\\site-packages\\ipykernel\\__main__.py:20: RuntimeWarning: divide by zero encountered in log\n"
     ]
    }
   ],
   "source": [
    "def learning_parameters(i, y):\n",
    "    def f(theta):\n",
    "        return costFunction(theta, i, y)\n",
    "\n",
    "    def fprime(theta):\n",
    "        return gradFunction(theta, i, y)\n",
    "    theta = zeros(X.shape[1])\n",
    "    print theta.shape\n",
    "    return fmin_bfgs(f, theta, fprime, disp=True, maxiter=400)\n",
    "\n",
    "theta1 = learning_parameters(X, y)"
   ]
  },
  {
   "cell_type": "code",
   "execution_count": 211,
   "metadata": {
    "collapsed": false
   },
   "outputs": [
    {
     "data": {
      "text/plain": [
       "array([  2.66352028e-02,   7.20948351e-02,   1.03423725e+03,\n",
       "         2.38118884e+00,   5.33803831e-02])"
      ]
     },
     "execution_count": 211,
     "metadata": {},
     "output_type": "execute_result"
    }
   ],
   "source": [
    "theta1"
   ]
  },
  {
   "cell_type": "code",
   "execution_count": 212,
   "metadata": {
    "collapsed": false
   },
   "outputs": [],
   "source": [
    "def predict(theta,X):\n",
    "    m, n = X.shape\n",
    "    p = zeros(shape=(m, 1))\n",
    "    print p.shape\n",
    "    print X.shape\n",
    "    d = theta.conj().transpose()\n",
    "    print d.shape\n",
    "    h = sigmoid(X.dot(theta.conj().transpose()))\n",
    "    return h"
   ]
  },
  {
   "cell_type": "code",
   "execution_count": 215,
   "metadata": {
    "collapsed": false
   },
   "outputs": [
    {
     "name": "stdout",
     "output_type": "stream",
     "text": [
      "(1992L, 1L)\n",
      "(1992L, 5L)\n",
      "(5L,)\n",
      "accuracy = 18.875502008%\n"
     ]
    }
   ],
   "source": [
    "p = predict(array(theta1), X)\n",
    "p = p.T\n",
    "for i in range(0, len(p)):\n",
    "        if p[i] > 0.5:\n",
    "            p[i] = 1\n",
    "        else:\n",
    "            p[i] = 0\n",
    "\n",
    "correct = [1 if a == b else 0 for (a, b) in zip(p, y)]\n",
    "accuracy = (sum(map(int, correct)) / float(len(correct)))\n",
    "print 'accuracy = {0}%'.format(accuracy * 100)"
   ]
  },
  {
   "cell_type": "code",
   "execution_count": 216,
   "metadata": {
    "collapsed": false
   },
   "outputs": [
    {
     "name": "stdout",
     "output_type": "stream",
     "text": [
      "(1992L, 1L)\n",
      "(1992L, 5L)\n",
      "(5L,)\n",
      "Train Accuracy: 18.875502008\n"
     ]
    }
   ],
   "source": [
    "p = predict(array(theta), X)\n",
    "p = p.T\n",
    "print \"Train Accuracy:\",((y[where(p == y)].size / float(y.size)) * 100.0)"
   ]
  },
  {
   "cell_type": "code",
   "execution_count": null,
   "metadata": {
    "collapsed": true
   },
   "outputs": [],
   "source": []
  }
 ],
 "metadata": {
  "kernelspec": {
   "display_name": "Python 2",
   "language": "python",
   "name": "python2"
  },
  "language_info": {
   "codemirror_mode": {
    "name": "ipython",
    "version": 2
   },
   "file_extension": ".py",
   "mimetype": "text/x-python",
   "name": "python",
   "nbconvert_exporter": "python",
   "pygments_lexer": "ipython2",
   "version": "2.7.13"
  }
 },
 "nbformat": 4,
 "nbformat_minor": 2
}
