{
 "cells": [
  {
   "cell_type": "code",
   "execution_count": 79,
   "metadata": {
    "collapsed": true
   },
   "outputs": [],
   "source": [
    "import numpy as np\n",
    "import pandas as pd\n",
    "import matplotlib.pyplot as plt\n",
    "%matplotlib inline\n",
    "import scipy.optimize as opt\n",
    "from sklearn.model_selection import train_test_split"
   ]
  },
  {
   "cell_type": "code",
   "execution_count": 80,
   "metadata": {
    "collapsed": false
   },
   "outputs": [
    {
     "data": {
      "text/plain": [
       "(1992, 36)"
      ]
     },
     "execution_count": 80,
     "metadata": {},
     "output_type": "execute_result"
    }
   ],
   "source": [
    "data = pd.read_excel(\"C:/Users/Niku/Documents/dataset/datatest.xlsx\")\n",
    "data.shape"
   ]
  },
  {
   "cell_type": "code",
   "execution_count": 116,
   "metadata": {
    "collapsed": false
   },
   "outputs": [],
   "source": [
    "Normdata = data\n",
    "Normdata = np.matrix(Normdata)\n",
    "for i in range(0, Normdata.shape[1]):\n",
    "    cur = Normdata[:, i]\n",
    "    mx = max(cur)*1.0\n",
    "    mn = min(cur)*1.0\n",
    "    for j in range(0, len(cur)):\n",
    "        cur[j] = (cur[j] - mn)/(mx - mn)\n",
    "    Normdata[:, i] = cur\n",
    "cols = Normdata.shape[1]\n",
    "X = Normdata[:,0:cols-1]\n",
    "y = Normdata[:,cols-1:cols]\n",
    "# convert to numpy arrays and initalize the parameter array theta\n",
    "#X = np.array(X.values)\n",
    "#y = np.array(y.values)\n",
    "theta = np.zeros(36)"
   ]
  },
  {
   "cell_type": "code",
   "execution_count": 117,
   "metadata": {
    "collapsed": false
   },
   "outputs": [
    {
     "data": {
      "text/plain": [
       "matrix([[  4.07608696e-01,   1.41719251e-02,   9.19030428e-01, ...,\n",
       "           0.00000000e+00,   4.15175068e-02,   1.77250138e-01],\n",
       "        [  3.31521739e-01,   8.27557670e-03,   9.58122744e-01, ...,\n",
       "           0.00000000e+00,   4.92244442e-02,   7.06791828e-02],\n",
       "        [  2.25543478e-01,   7.65490845e-03,   9.45332646e-01, ...,\n",
       "           0.00000000e+00,   6.26618332e-02,   8.04343825e-02],\n",
       "        ..., \n",
       "        [  2.33695652e-01,   5.37912486e-03,   9.27694688e-01, ...,\n",
       "           0.00000000e+00,   2.68024125e-02,   2.20872446e-03],\n",
       "        [  3.50543478e-01,   3.48608669e-02,   6.93450232e-01, ...,\n",
       "           0.00000000e+00,   4.82181099e-02,   0.00000000e+00],\n",
       "        [  2.74456522e-01,   2.47232854e-02,   7.07478081e-01, ...,\n",
       "           1.91442519e-04,   2.98734280e-02,   2.55843917e-02]])"
      ]
     },
     "execution_count": 117,
     "metadata": {},
     "output_type": "execute_result"
    }
   ],
   "source": [
    "X"
   ]
  },
  {
   "cell_type": "code",
   "execution_count": null,
   "metadata": {
    "collapsed": true
   },
   "outputs": [],
   "source": []
  }
 ],
 "metadata": {
  "kernelspec": {
   "display_name": "Python 2",
   "language": "python",
   "name": "python2"
  },
  "language_info": {
   "codemirror_mode": {
    "name": "ipython",
    "version": 2
   },
   "file_extension": ".py",
   "mimetype": "text/x-python",
   "name": "python",
   "nbconvert_exporter": "python",
   "pygments_lexer": "ipython2",
   "version": "2.7.13"
  }
 },
 "nbformat": 4,
 "nbformat_minor": 2
}
