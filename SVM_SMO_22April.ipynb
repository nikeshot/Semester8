{
 "cells": [
  {
   "cell_type": "code",
   "execution_count": 434,
   "metadata": {
    "collapsed": true
   },
   "outputs": [],
   "source": [
    "import numpy as np\n",
    "import pandas as pd\n",
    "import matplotlib.pyplot as plt\n",
    "%matplotlib inline\n",
    "import scipy.optimize as opt\n",
    "from sklearn.model_selection import train_test_split\n",
    "import random as rnd"
   ]
  },
  {
   "cell_type": "code",
   "execution_count": 435,
   "metadata": {
    "collapsed": false
   },
   "outputs": [
    {
     "data": {
      "text/plain": [
       "(1992, 36)"
      ]
     },
     "execution_count": 435,
     "metadata": {},
     "output_type": "execute_result"
    }
   ],
   "source": [
    "data = pd.read_excel(\"C:/Users/Niku/Documents/dataset/arrays.xlsx\")\n",
    "data.shape"
   ]
  },
  {
   "cell_type": "code",
   "execution_count": 436,
   "metadata": {
    "collapsed": false
   },
   "outputs": [
    {
     "data": {
      "text/plain": [
       "((1500L,), (1500L, 36L), (1L, 1500L))"
      ]
     },
     "execution_count": 436,
     "metadata": {},
     "output_type": "execute_result"
    }
   ],
   "source": [
    "X = data[0:1500]\n",
    "X = np.array(X)\n",
    "y = X[:, 35]\n",
    "#X = X[:, 0:4]\n",
    "X.shape\n",
    "#y = np.matrix(y)\n",
    "y = np.array(y)\n",
    "y[y == 0] = -1\n",
    "y1 = np.matrix(y)\n",
    "y.shape, X.shape, y1.shape"
   ]
  },
  {
   "cell_type": "code",
   "execution_count": 437,
   "metadata": {
    "collapsed": true
   },
   "outputs": [],
   "source": [
    "def kernel_linear(x1, x2):\n",
    "    return np.dot(x1, x2.T)\n",
    "def kernel_quadratic(x1, x2):\n",
    "    return (np.dot(x1, x2.T) ** 2)"
   ]
  },
  {
   "cell_type": "code",
   "execution_count": 438,
   "metadata": {
    "collapsed": true
   },
   "outputs": [],
   "source": [
    "def rnd_int(a,b,z):\n",
    "    i = z\n",
    "    while i == z:\n",
    "        i = rnd.randint(a,b)\n",
    "    return i"
   ]
  },
  {
   "cell_type": "code",
   "execution_count": 439,
   "metadata": {
    "collapsed": true
   },
   "outputs": [],
   "source": [
    "def predict(X):\n",
    "    return h(X, w, b)"
   ]
  },
  {
   "cell_type": "code",
   "execution_count": 440,
   "metadata": {
    "collapsed": true
   },
   "outputs": [],
   "source": [
    "def calc_b(X, y, w):\n",
    "    b_tmp = y - np.dot(w.T, X.T)\n",
    "    return np.mean(b_tmp)"
   ]
  },
  {
   "cell_type": "code",
   "execution_count": 441,
   "metadata": {
    "collapsed": false
   },
   "outputs": [],
   "source": [
    "def calc_w(alpha, y, X):\n",
    "    return np.dot(alpha * y, X)"
   ]
  },
  {
   "cell_type": "code",
   "execution_count": 442,
   "metadata": {
    "collapsed": true
   },
   "outputs": [],
   "source": [
    "def h(X, w, b):\n",
    "    return np.sign(np.dot(w.T, X.T) + b).astype(int)"
   ]
  },
  {
   "cell_type": "code",
   "execution_count": 443,
   "metadata": {
    "collapsed": true
   },
   "outputs": [],
   "source": [
    "def E(x_k, y_k, w, b):\n",
    "    return h(x_k, w, b) - y_k"
   ]
  },
  {
   "cell_type": "code",
   "execution_count": 444,
   "metadata": {
    "collapsed": true
   },
   "outputs": [],
   "source": [
    " def compute_L_H(C, alpha_prime_j, alpha_prime_i, y_j, y_i):\n",
    "    if(y_i != y_j):\n",
    "        return (max(0, alpha_prime_j - alpha_prime_i), min(C, C - alpha_prime_i + alpha_prime_j))\n",
    "    else:\n",
    "        return (max(0, alpha_prime_i + alpha_prime_j - C), min(C, alpha_prime_i + alpha_prime_j))"
   ]
  },
  {
   "cell_type": "code",
   "execution_count": 445,
   "metadata": {
    "collapsed": true
   },
   "outputs": [],
   "source": [
    "max_iter=10000\n",
    "kernel_type='linear'\n",
    "C=1.0\n",
    "epsilon=0.001"
   ]
  },
  {
   "cell_type": "code",
   "execution_count": 446,
   "metadata": {
    "collapsed": false
   },
   "outputs": [],
   "source": [
    "def fit(X, y):\n",
    "    # Initialization\n",
    "    n, d = X.shape[0], X.shape[1]\n",
    "    alpha = np.zeros((n))\n",
    "    #alpha = np.array(alpha)\n",
    "    #print (alpha.shape)\n",
    "    count = 0\n",
    "    while True:\n",
    "        count += 1\n",
    "        alpha_prev = np.copy(alpha)\n",
    "        for j in range(0, n):\n",
    "            i = rnd_int(0, n-1, j) # Get random int i~=j\n",
    "            x_i, x_j, y_i, y_j = X[i,:], X[j,:], y[i], y[j]\n",
    "            #k_ij = kernel_quadratic(x_i, x_i) + kernel_quadratic(x_j, x_j) - 2 * kernel_quadratic(x_i, x_j)\n",
    "            k_ij = kernel_linear(x_i, x_i) + kernel_linear(x_j, x_j) - 2 * kernel_linear(x_i, x_j)\n",
    "            if k_ij == 0:\n",
    "                continue\n",
    "            alpha_prime_j, alpha_prime_i = alpha[j], alpha[i]\n",
    "            (L, H) = compute_L_H(C, alpha_prime_j, alpha_prime_i, y_j, y_i)\n",
    "\n",
    "                # Compute model parameters\n",
    "            w = calc_w(alpha, y, X)\n",
    "            b = calc_b(X, y, w)\n",
    "            \n",
    "                # Compute E_i, E_j\n",
    "            E_i = E(x_i, y_i, w, b)\n",
    "            E_j = E(x_j, y_j, w, b)\n",
    "\n",
    "                # Set new alpha values\n",
    "            alpha[j] = alpha_prime_j + float(y_j * (E_i - E_j))/k_ij\n",
    "            alpha[j] = max(alpha[j], L)\n",
    "            alpha[j] = min(alpha[j], H)\n",
    "\n",
    "            alpha[i] = alpha_prime_i + y_i*y_j * (alpha_prime_j - alpha[j])\n",
    "\n",
    "            # Check convergence\n",
    "        diff = np.linalg.norm(alpha - alpha_prev)\n",
    "        if diff < epsilon:\n",
    "            break\n",
    "\n",
    "        if count >= max_iter:\n",
    "            print(\"Iteration number exceeded the max of %d iterations\" % (max_iter))\n",
    "            return\n",
    "        # Compute final model parameters\n",
    "    b = calc_b(X, y, w)\n",
    "    if kernel_type == 'linear':\n",
    "        w = calc_w(alpha, y, X)\n",
    "    # Get support vectors\n",
    "    alpha_idx = np.where(alpha > 0)[0]\n",
    "    support_vectors = X[alpha_idx, :]\n",
    "    return support_vectors, count"
   ]
  },
  {
   "cell_type": "code",
   "execution_count": 447,
   "metadata": {
    "collapsed": false,
    "scrolled": true
   },
   "outputs": [
    {
     "data": {
      "text/plain": [
       "(array([[ 0.33152174,  0.00827558,  0.95812274,  0.05937663,  0.00767048,\n",
       "          0.12906463,  0.19499427,  0.09901662,  0.30365878,  1.        ,\n",
       "          0.32433132,  0.72851863,  0.42875105,  0.08516276,  0.46111772,\n",
       "          0.25679842,  0.06932337,  0.10887503,  0.16249825,  0.3925    ,\n",
       "          0.04931142,  0.62055138,  0.15909091,  0.89097132,  0.00992146,\n",
       "          0.87945707,  0.0472215 ,  0.01615074,  0.85559748,  0.01311892,\n",
       "          0.53770087,  0.        ,  0.        ,  0.04922444,  0.07067918,\n",
       "          0.        ],\n",
       "        [ 0.47282609,  0.19623461,  0.52521919,  0.36235417,  0.11148471,\n",
       "          0.23243677,  0.45542287,  0.2449983 ,  0.04832714,  1.        ,\n",
       "          0.15588716,  0.90406529,  0.08284437,  0.24224073,  0.2979786 ,\n",
       "          0.1050719 ,  0.18742217,  0.11269873,  0.19197988,  0.21361111,\n",
       "          0.09684585,  0.84177109,  0.3992629 ,  0.78031291,  0.06986358,\n",
       "          0.707099  ,  0.11244456,  0.20003365,  0.22188679,  0.06855692,\n",
       "          0.58590853,  0.        ,  0.        ,  0.06575999,  0.03552365,\n",
       "          0.        ],\n",
       "        [ 0.35054348,  0.00434468,  0.85838061,  0.21487028,  0.04707366,\n",
       "          0.18004817,  0.17143792,  0.0930824 ,  0.21385248,  1.        ,\n",
       "          0.60142438,  0.74576532,  0.29058396,  0.03898562,  0.31795482,\n",
       "          0.56652028,  0.04586966,  0.03280338,  0.03842392,  0.73277778,\n",
       "          0.0670813 ,  0.64076859,  0.21375921,  0.95632334,  0.04051261,\n",
       "          0.80975978,  0.06209236,  0.04559219,  0.92754717,  0.        ,\n",
       "          0.98763906,  0.        ,  0.        ,  0.04857315,  0.00404933,\n",
       "          1.        ],\n",
       "        [ 0.26902174,  0.1182373 ,  0.78122744,  0.06233676,  0.13039823,\n",
       "          0.15576074,  0.2892197 ,  0.13394371,  0.1567208 ,  0.9984    ,\n",
       "          0.16969362,  0.78857407,  0.23861414,  0.20741862,  0.29179548,\n",
       "          0.16360975,  0.22478207,  0.13403099,  0.30194215,  0.16305556,\n",
       "          0.23322968,  0.68788638,  0.95638821,  0.57822686,  0.18023977,\n",
       "          0.84735538,  0.09653013,  0.131393  ,  0.42163522,  0.22132882,\n",
       "          0.368356  ,  0.01436941,  0.02259022,  0.06746962,  0.05245721,\n",
       "          1.        ],\n",
       "        [ 0.33695652,  0.01003414,  0.97400722,  0.02193975,  0.02479773,\n",
       "          0.15074267,  0.24145264,  0.11648016,  0.17902563,  1.        ,\n",
       "          0.34260904,  0.81028642,  0.27982677,  0.08705526,  0.31819263,\n",
       "          0.2586584 ,  0.03860523,  0.13443349,  0.20665083,  0.30972222,\n",
       "          0.13860506,  0.72715121,  0.25307125,  0.88347458,  0.03803224,\n",
       "          0.88193472,  0.03495956,  0.01379542,  0.78767296,  0.02835379,\n",
       "          0.5710754 ,  0.        ,  0.        ,  0.02507242,  0.01877416,\n",
       "          0.        ],\n",
       "        [ 0.30978261,  0.0694114 ,  0.923672  ,  0.00261188,  0.00388778,\n",
       "          0.20433561,  0.27580566,  0.13682604,  0.16709059,  1.        ,\n",
       "          0.16573999,  0.75115491,  0.30678961,  0.1003028 ,  0.38002378,\n",
       "          0.11297684,  0.13615608,  0.18333669,  0.34791114,  0.10361111,\n",
       "          0.13816082,  0.56892231,  0.41584767,  0.80215124,  0.03555188,\n",
       "          0.98157923,  0.        ,  0.03364738,  0.74591195,  0.17647059,\n",
       "          0.19035847,  0.        ,  0.        ,  0.02227956,  0.00349715,\n",
       "          1.        ]]), 2)"
      ]
     },
     "execution_count": 447,
     "metadata": {},
     "output_type": "execute_result"
    }
   ],
   "source": [
    "fit(X,y)"
   ]
  },
  {
   "cell_type": "code",
   "execution_count": null,
   "metadata": {
    "collapsed": false
   },
   "outputs": [],
   "source": []
  },
  {
   "cell_type": "code",
   "execution_count": null,
   "metadata": {
    "collapsed": true
   },
   "outputs": [],
   "source": []
  }
 ],
 "metadata": {
  "kernelspec": {
   "display_name": "Python 2",
   "language": "python",
   "name": "python2"
  },
  "language_info": {
   "codemirror_mode": {
    "name": "ipython",
    "version": 2
   },
   "file_extension": ".py",
   "mimetype": "text/x-python",
   "name": "python",
   "nbconvert_exporter": "python",
   "pygments_lexer": "ipython2",
   "version": "2.7.13"
  }
 },
 "nbformat": 4,
 "nbformat_minor": 2
}
