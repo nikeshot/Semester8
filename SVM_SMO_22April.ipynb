{
 "cells": [
  {
   "cell_type": "code",
   "execution_count": 307,
   "metadata": {
    "collapsed": true
   },
   "outputs": [],
   "source": [
    "import numpy as np\n",
    "import pandas as pd\n",
    "import matplotlib.pyplot as plt\n",
    "%matplotlib inline\n",
    "import scipy.optimize as opt\n",
    "from sklearn.model_selection import train_test_split\n",
    "import random as rnd"
   ]
  },
  {
   "cell_type": "code",
   "execution_count": 308,
   "metadata": {
    "collapsed": false
   },
   "outputs": [
    {
     "data": {
      "text/plain": [
       "(1994, 121)"
      ]
     },
     "execution_count": 308,
     "metadata": {},
     "output_type": "execute_result"
    }
   ],
   "source": [
    "#data = pd.read_excel(\"C:/Users/Niku/Documents/dataset/arrays.xlsx\")\n",
    "data = pd.read_excel(\"C:/Users/Niku/Documents/Semester8/DataFiles/datasetnorm1.xlsx\")\n",
    "data.shape"
   ]
  },
  {
   "cell_type": "code",
   "execution_count": 309,
   "metadata": {
    "collapsed": true
   },
   "outputs": [],
   "source": [
    "def kernel_linear(x1, x2):\n",
    "    return np.dot(x1, x2.T)\n",
    "def kernel_quadratic(x1, x2):\n",
    "    return (np.dot(x1, x2.T) ** 2)"
   ]
  },
  {
   "cell_type": "code",
   "execution_count": 310,
   "metadata": {
    "collapsed": true
   },
   "outputs": [],
   "source": [
    "def rnd_int(a,b,z):\n",
    "    i = z\n",
    "    while i == z:\n",
    "        i = rnd.randint(a,b)\n",
    "    return i"
   ]
  },
  {
   "cell_type": "code",
   "execution_count": 311,
   "metadata": {
    "collapsed": true
   },
   "outputs": [],
   "source": [
    "def predict(X):\n",
    "    return h(X, w, b)"
   ]
  },
  {
   "cell_type": "code",
   "execution_count": 312,
   "metadata": {
    "collapsed": true
   },
   "outputs": [],
   "source": [
    "def calc_b(X, y, w):\n",
    "    b_tmp = y - np.dot(w.T, X.T)\n",
    "    return np.mean(b_tmp)"
   ]
  },
  {
   "cell_type": "code",
   "execution_count": 313,
   "metadata": {
    "collapsed": false
   },
   "outputs": [],
   "source": [
    "def calc_w(alpha, y, X):\n",
    "    return np.dot(alpha * y, X)"
   ]
  },
  {
   "cell_type": "code",
   "execution_count": 314,
   "metadata": {
    "collapsed": true
   },
   "outputs": [],
   "source": [
    "def h(X, w, b):\n",
    "    return np.sign(np.dot(w.T, X.T) + b).astype(int)"
   ]
  },
  {
   "cell_type": "code",
   "execution_count": 315,
   "metadata": {
    "collapsed": true
   },
   "outputs": [],
   "source": [
    "def E(x_k, y_k, w, b):\n",
    "    return h(x_k, w, b) - y_k"
   ]
  },
  {
   "cell_type": "code",
   "execution_count": 316,
   "metadata": {
    "collapsed": true
   },
   "outputs": [],
   "source": [
    " def compute_L_H(C, alpha_prime_j, alpha_prime_i, y_j, y_i):\n",
    "    if(y_i != y_j):\n",
    "        return (max(0, alpha_prime_j - alpha_prime_i), min(C, C - alpha_prime_i + alpha_prime_j))\n",
    "    else:\n",
    "        return (max(0, alpha_prime_i + alpha_prime_j - C), min(C, alpha_prime_i + alpha_prime_j))"
   ]
  },
  {
   "cell_type": "code",
   "execution_count": 317,
   "metadata": {
    "collapsed": true
   },
   "outputs": [],
   "source": [
    "max_iter=10000\n",
    "kernel ='linear'\n",
    "C=1.0\n",
    "epsilon=0.001"
   ]
  },
  {
   "cell_type": "code",
   "execution_count": 318,
   "metadata": {
    "collapsed": false
   },
   "outputs": [],
   "source": [
    "def fit(X, y):\n",
    "    # Initialization\n",
    "    n, d = X.shape[0], X.shape[1]\n",
    "    alpha = np.zeros((n))\n",
    "    #alpha = np.array(alpha)\n",
    "    #print (alpha.shape)\n",
    "    count = 0\n",
    "    while True:\n",
    "        count += 1\n",
    "        alpha_prev = np.copy(alpha)\n",
    "        for j in range(0, n):\n",
    "            i = rnd_int(0, n-1, j) # Get random int i~=j\n",
    "            x_i, x_j, y_i, y_j = X[i,:], X[j,:], y[i], y[j]\n",
    "            if kernel == 'quadratic':\n",
    "                k_ij = kernel_quadratic(x_i, x_i) + kernel_quadratic(x_j, x_j) - 2 * kernel_quadratic(x_i, x_j)\n",
    "            else:\n",
    "                k_ij = kernel_linear(x_i, x_i) + kernel_linear(x_j, x_j) - 2 * kernel_linear(x_i, x_j)\n",
    "            if k_ij == 0:\n",
    "                continue\n",
    "            alpha_prime_j, alpha_prime_i = alpha[j], alpha[i]\n",
    "            (L, H) = compute_L_H(C, alpha_prime_j, alpha_prime_i, y_j, y_i)\n",
    "\n",
    "                # Compute model parameters\n",
    "            w = calc_w(alpha, y, X)\n",
    "            b = calc_b(X, y, w)\n",
    "            \n",
    "                # Compute E_i, E_j\n",
    "            E_i = E(x_i, y_i, w, b)\n",
    "            E_j = E(x_j, y_j, w, b)\n",
    "\n",
    "                # Set new alpha values\n",
    "            alpha[j] = alpha_prime_j + float(y_j * (E_i - E_j))/k_ij\n",
    "            alpha[j] = max(alpha[j], L)\n",
    "            alpha[j] = min(alpha[j], H)\n",
    "\n",
    "            alpha[i] = alpha_prime_i + y_i*y_j * (alpha_prime_j - alpha[j])\n",
    "\n",
    "            # Check convergence\n",
    "        diff = np.linalg.norm(alpha - alpha_prev)\n",
    "        if diff < epsilon:\n",
    "            break\n",
    "\n",
    "        if count >= max_iter:\n",
    "            print(\"Iteration number exceeded the max of %d iterations\" % (max_iter))\n",
    "            return\n",
    "        # Compute final model parameters\n",
    "    b = calc_b(X, y, w)\n",
    "    if kernel == 'linear':\n",
    "        w = calc_w(alpha, y, X)\n",
    "    # Get support vectors\n",
    "    alpha_idx = np.where(alpha > 0)[0]\n",
    "    support_vectors = X[alpha_idx, :]\n",
    "    return b, w"
   ]
  },
  {
   "cell_type": "code",
   "execution_count": 319,
   "metadata": {
    "collapsed": false
   },
   "outputs": [],
   "source": [
    "rows = data.shape[0]\n",
    "cols = data.shape[1]\n",
    "y = data.iloc[:, cols-1]\n",
    "X = data.iloc[:, 1:cols-1]\n",
    "#X.shape, y.shape\n",
    "#X = np.matrix(X)\n",
    "#y = np.array(y)"
   ]
  },
  {
   "cell_type": "code",
   "execution_count": 320,
   "metadata": {
    "collapsed": false
   },
   "outputs": [
    {
     "data": {
      "text/plain": [
       "(numpy.ndarray, numpy.ndarray)"
      ]
     },
     "execution_count": 320,
     "metadata": {},
     "output_type": "execute_result"
    }
   ],
   "source": [
    "#X = data\n",
    "X = np.array(X)\n",
    "#y = X[:, 120]\n",
    "#X = X[:, 0:120]\n",
    "X.shape\n",
    "#y = np.matrix(y)\n",
    "y = np.array(y)\n",
    "y[y == 0] = -1\n",
    "y1 = np.matrix(y)\n",
    "y.shape, X.shape, y1.shape\n",
    "type(X_train), type(y_train)"
   ]
  },
  {
   "cell_type": "code",
   "execution_count": null,
   "metadata": {
    "collapsed": false
   },
   "outputs": [],
   "source": [
    "for i in range(5):\n",
    "    X_train, X_test, y_train, y_test = train_test_split(X, y, test_size = 0.5)\n",
    "    X_train.shape, y_train.shape\n",
    "    [b, w] = fit(X_train, y_train)\n",
    "    y_pred = predict(X_test)\n",
    "    u1, c1 = np.unique(y_pred, return_counts=True)\n",
    "    #print u1, c1\n",
    "    u2, c2 = np.unique(np.array(y_test), return_counts=True)\n",
    "    #print u2, c2\n",
    "    correct = [1 if a == b else 0 for (a, b) in zip(y_pred, y_test)]\n",
    "    accuracy = (sum(map(int, correct)) / float(len(correct)))\n",
    "    print 'accuracy = {0}%'.format(accuracy * 100)"
   ]
  },
  {
   "cell_type": "code",
   "execution_count": null,
   "metadata": {
    "collapsed": false
   },
   "outputs": [],
   "source": [
    "[b, w] = fit(X_train, y_train)"
   ]
  },
  {
   "cell_type": "code",
   "execution_count": null,
   "metadata": {
    "collapsed": true
   },
   "outputs": [],
   "source": [
    "y_pred = predict(X_test)"
   ]
  },
  {
   "cell_type": "code",
   "execution_count": null,
   "metadata": {
    "collapsed": false
   },
   "outputs": [],
   "source": [
    "y_pred[y_pred == -1] = 0\n",
    "u1, c1 = np.unique(y_pred, return_counts=True)\n",
    "print u1, c1\n",
    "u2, c2 = np.unique(np.array(y_test), return_counts=True)\n",
    "print u2, c2"
   ]
  },
  {
   "cell_type": "code",
   "execution_count": null,
   "metadata": {
    "collapsed": false
   },
   "outputs": [],
   "source": [
    "correct = [1 if a == b else 0 for (a, b) in zip(y_pred, y_test)]\n",
    "accuracy = (sum(map(int, correct)) / float(len(correct)))\n",
    "print 'accuracy = {0}%'.format(accuracy * 100)"
   ]
  },
  {
   "cell_type": "code",
   "execution_count": null,
   "metadata": {
    "collapsed": true
   },
   "outputs": [],
   "source": [
    "y_test[y_test == -1] = 0\n",
    "y_pred[y_pred == -1] = 0"
   ]
  },
  {
   "cell_type": "code",
   "execution_count": null,
   "metadata": {
    "collapsed": false
   },
   "outputs": [],
   "source": [
    "from sklearn import metrics\n",
    "fpr, tpr, thresholds = metrics.roc_curve(y_test, y_pred)\n",
    "metrics.auc(fpr, tpr)"
   ]
  },
  {
   "cell_type": "code",
   "execution_count": null,
   "metadata": {
    "collapsed": true
   },
   "outputs": [],
   "source": []
  }
 ],
 "metadata": {
  "kernelspec": {
   "display_name": "Python 2",
   "language": "python",
   "name": "python2"
  },
  "language_info": {
   "codemirror_mode": {
    "name": "ipython",
    "version": 2
   },
   "file_extension": ".py",
   "mimetype": "text/x-python",
   "name": "python",
   "nbconvert_exporter": "python",
   "pygments_lexer": "ipython2",
   "version": "2.7.13"
  }
 },
 "nbformat": 4,
 "nbformat_minor": 2
}
