{
 "cells": [
  {
   "cell_type": "code",
   "execution_count": 7,
   "metadata": {
    "collapsed": true
   },
   "outputs": [],
   "source": [
    "import numpy as np\n",
    "import pandas as pd\n",
    "import matplotlib.pyplot as plt\n",
    "%matplotlib inline\n",
    "import scipy.optimize as opt\n",
    "from sklearn.model_selection import train_test_split"
   ]
  },
  {
   "cell_type": "code",
   "execution_count": 8,
   "metadata": {
    "collapsed": false
   },
   "outputs": [
    {
     "data": {
      "text/plain": [
       "(1994, 121)"
      ]
     },
     "execution_count": 8,
     "metadata": {},
     "output_type": "execute_result"
    }
   ],
   "source": [
    "#data = pd.read_excel(\"C:/Users/Niku/Documents/dataset/datatest.xlsx\")\n",
    "data = pd.read_excel(\"C:/Users/Niku/Documents/Semester8/DataFiles/dataset1.xlsx\")\n",
    "data.shape"
   ]
  },
  {
   "cell_type": "code",
   "execution_count": 9,
   "metadata": {
    "collapsed": false
   },
   "outputs": [],
   "source": [
    "Normdata = data\n",
    "Normdata = np.matrix(Normdata)\n",
    "for i in range(0, Normdata.shape[1]):\n",
    "    cur = Normdata[:, i]\n",
    "    mx = max(cur)*1.0\n",
    "    mn = min(cur)*1.0\n",
    "    for j in range(0, len(cur)):\n",
    "        cur[j] = (cur[j] - mn)/(mx - mn)\n",
    "    Normdata[:, i] = cur\n",
    "cols = Normdata.shape[1]\n",
    "X = Normdata[:,0:cols-1]\n",
    "y = Normdata[:,cols-1:cols]\n",
    "# convert to numpy arrays and initalize the parameter array theta\n",
    "#X = np.array(X.values)\n",
    "#y = np.array(y.values)\n",
    "theta = np.zeros(36)"
   ]
  },
  {
   "cell_type": "code",
   "execution_count": 10,
   "metadata": {
    "collapsed": false
   },
   "outputs": [
    {
     "data": {
      "text/plain": [
       "(1994L, 120L)"
      ]
     },
     "execution_count": 10,
     "metadata": {},
     "output_type": "execute_result"
    }
   ],
   "source": [
    "X = np.matrix(X)\n",
    "y = np.matrix(y)\n",
    "X.shape"
   ]
  },
  {
   "cell_type": "code",
   "execution_count": 11,
   "metadata": {
    "collapsed": false
   },
   "outputs": [
    {
     "name": "stdout",
     "output_type": "stream",
     "text": [
      "(1994L, 120L)\n"
     ]
    }
   ],
   "source": [
    "#X = X[0:1900]\n",
    "#y = y[0:1900]\n",
    "print X.shape"
   ]
  },
  {
   "cell_type": "code",
   "execution_count": 12,
   "metadata": {
    "collapsed": false
   },
   "outputs": [],
   "source": [
    "for i in range(len(y)):\n",
    "    if y[i] == 0:\n",
    "        y[i] = -1"
   ]
  },
  {
   "cell_type": "code",
   "execution_count": 13,
   "metadata": {
    "collapsed": false
   },
   "outputs": [
    {
     "name": "stdout",
     "output_type": "stream",
     "text": [
      "997 120 (100000L, 121L)\n"
     ]
    }
   ],
   "source": [
    "X_train, X_test, y_train, y_test = train_test_split(X, y, test_size = 0.5, random_state=1)\n",
    "X_train.shape, theta.shape, y_train.shape\n",
    "m = X_train.shape[0]\n",
    "n = X_train.shape[1]\n",
    "X_train = np.insert(X_train, 0, values=np.ones(X_train.shape[0]), axis=1)\n",
    "X_test = np.insert(X_test, 0, values=np.ones(X_test.shape[0]), axis=1)\n",
    "epochs = 2\n",
    "k = 0\n",
    "c = np.zeros(100000)\n",
    "V = np.zeros((100000, n))\n",
    "V = np.insert(V, 0, values=np.ones(V.shape[0]), axis=1)\n",
    "print m, n, V.shape"
   ]
  },
  {
   "cell_type": "code",
   "execution_count": 20,
   "metadata": {
    "collapsed": false,
    "scrolled": true
   },
   "outputs": [
    {
     "name": "stdout",
     "output_type": "stream",
     "text": [
      "0\n",
      "(100000L, 121L)\n",
      "1\n",
      "(100000L, 121L)\n",
      "Done training\n",
      "817\n"
     ]
    }
   ],
   "source": [
    "for e in range(epochs):\n",
    "    for i in range(0, m-1):\n",
    "        y_pred = np.sign(np.dot(X_train[i], V[k].T))\n",
    "        if y_pred == y_train[i]:\n",
    "            c[k+1] = c[k] + 1\n",
    "        else:\n",
    "            d = np.asscalar(y_train[i])\n",
    "            p = V[k] + (d*X_train[i]).T\n",
    "            V[k+1] = V[k] + (d*X_train[i])\n",
    "            c[k+1] = 1\n",
    "            k = k + 1\n",
    "\n",
    "print 'Done training' \n",
    "print k"
   ]
  },
  {
   "cell_type": "code",
   "execution_count": 24,
   "metadata": {
    "collapsed": false
   },
   "outputs": [
    {
     "data": {
      "text/plain": [
       "((997L,), (817L,))"
      ]
     },
     "execution_count": 24,
     "metadata": {},
     "output_type": "execute_result"
    }
   ],
   "source": [
    "y_pr = np.zeros(X_test.shape[0])\n",
    "a = np.zeros(k)\n",
    "y_pr.shape, a.shape"
   ]
  },
  {
   "cell_type": "code",
   "execution_count": null,
   "metadata": {
    "collapsed": true
   },
   "outputs": [],
   "source": [
    "for j in range(0, X_test.shape[0]):\n",
    "    for i in range(0, k):\n",
    "        a[i] = c[i] * np.sign(np.dot(X_test[j], V[i].T))\n",
    "        s = np.sum(a)\n",
    "        y_pr[j] = np.sign(s)\n",
    "print 'Test Data Created'"
   ]
  },
  {
   "cell_type": "code",
   "execution_count": 25,
   "metadata": {
    "collapsed": false
   },
   "outputs": [
    {
     "name": "stdout",
     "output_type": "stream",
     "text": [
      "[ 1.] [997]\n",
      "[ 0.  1.] [597 400]\n"
     ]
    }
   ],
   "source": [
    "y_pr[y_pr == 0] = 1\n",
    "u1, c1 = np.unique(y_pr, return_counts=True)\n",
    "print u1, c1\n",
    "u2, c2 = np.unique(np.array(y_test), return_counts=True)\n",
    "print u2, c2"
   ]
  },
  {
   "cell_type": "code",
   "execution_count": 17,
   "metadata": {
    "collapsed": false
   },
   "outputs": [
    {
     "name": "stdout",
     "output_type": "stream",
     "text": [
      "accuracy = 87.8635907723%\n"
     ]
    }
   ],
   "source": [
    "correct = [1 if a == b else 0 for (a, b) in zip(y_pr, y_test)]\n",
    "accuracy = (sum(map(int, correct)) / float(len(correct)))\n",
    "print 'accuracy = {0}%'.format(accuracy * 100)"
   ]
  },
  {
   "cell_type": "code",
   "execution_count": null,
   "metadata": {
    "collapsed": true
   },
   "outputs": [],
   "source": []
  }
 ],
 "metadata": {
  "kernelspec": {
   "display_name": "Python 2",
   "language": "python",
   "name": "python2"
  },
  "language_info": {
   "codemirror_mode": {
    "name": "ipython",
    "version": 2
   },
   "file_extension": ".py",
   "mimetype": "text/x-python",
   "name": "python",
   "nbconvert_exporter": "python",
   "pygments_lexer": "ipython2",
   "version": "2.7.13"
  }
 },
 "nbformat": 4,
 "nbformat_minor": 2
}
