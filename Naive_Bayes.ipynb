{
 "cells": [
  {
   "cell_type": "code",
   "execution_count": 369,
   "metadata": {
    "collapsed": false
   },
   "outputs": [],
   "source": [
    "import pandas as pd\n",
    "import numpy as np\n",
    "from sklearn.model_selection import train_test_split\n",
    "from collections import Counter, defaultdict\n",
    "from sklearn.metrics import f1_score\n",
    "from sklearn.metrics import accuracy_score"
   ]
  },
  {
   "cell_type": "code",
   "execution_count": 370,
   "metadata": {
    "collapsed": false
   },
   "outputs": [
    {
     "name": "stdout",
     "output_type": "stream",
     "text": [
      "(3400, 13)\n",
      "(3400, 16)\n"
     ]
    }
   ],
   "source": [
    "data = pd.read_csv(\"C:\\Users\\Niku\\Documents\\ML Project\\data1.csv\")\n",
    "print data.shape\n",
    "data['Date'] = pd.to_datetime(data['Date'])\n",
    "data['Year'] = data['Date'].dt.year\n",
    "data['Month'] = data['Date'].dt.month\n",
    "data['DateOnly'] = data['Date'].dt.day\n",
    "print data.shape"
   ]
  },
  {
   "cell_type": "code",
   "execution_count": 435,
   "metadata": {
    "collapsed": false
   },
   "outputs": [
    {
     "name": "stdout",
     "output_type": "stream",
     "text": [
      "(3400, 7)\n",
      "(3230L, 7L)\n",
      "(170L, 7L)\n"
     ]
    }
   ],
   "source": [
    "#X = data[['DayOfWeek', 'PdDistrict', 'X', 'Y', 'Year', 'Month', 'DateOnly', 'Time']] #Acc = 0.15\n",
    "#X = data[['DayOfWeek', 'PdDistrict', 'X', 'Y', 'Year', 'Month', 'DateOnly']] #Acc = 0.16\n",
    "#X = data[['DayOfWeek',  'X', 'Y', 'Year', 'Month', 'DateOnly', 'Time']] #Acc = 0.155\n",
    "X = data[[ 'PdDistrict', 'X', 'Y', 'Year', 'Month', 'DateOnly', 'Time']] #Acc = 0.17 with test size 0.05\n",
    "print X.shape\n",
    "X = X.values\n",
    "y = data['Category']\n",
    "y = y.values\n",
    "X_train, X_test, y_train, y_test = train_test_split(X, y, test_size = 0.05, random_state=1)\n",
    "print X_train.shape\n",
    "print X_test.shape"
   ]
  },
  {
   "cell_type": "code",
   "execution_count": 436,
   "metadata": {
    "collapsed": false
   },
   "outputs": [],
   "source": [
    "def Prob(y_vector):\n",
    "    total = len(y_vector)\n",
    "    r_dict = {}\n",
    "    cnt = Counter(y_vector)\n",
    "    for key, value in cnt.items():\n",
    "        r_dict[key] = float(value)/total\n",
    "    return r_dict\n",
    "    \n",
    "dic = {}  \n",
    "#ClassifyingByLabels \n",
    "def ClassifyByLabels(X_matrix, y_vector):\n",
    "    \n",
    "    [rows, columns] = np.shape(X_matrix)\n",
    "    total = rows\n",
    "    labels = np.unique(y_vector)\n",
    "    for label in labels:\n",
    "        dic[label] = defaultdict(list)\n",
    "    for label in labels:\n",
    "        row_indices = np.where(y_vector == label)[0] \n",
    "        X_current = X_train[row_indices, :]\n",
    "        for i in range(0,columns):\n",
    "            dic[label][i] += list(X_current[:,i])\n",
    "    for label in labels:\n",
    "        for col in range(0, columns):\n",
    "            dic[label][col] = Prob(dic[label][col])\n",
    "            #print dic[label][col]\n",
    "            \n",
    "ClassifyByLabels(X_train, y_train)   \n",
    "crime_dict = Prob(y_train)"
   ]
  },
  {
   "cell_type": "code",
   "execution_count": 437,
   "metadata": {
    "collapsed": false
   },
   "outputs": [],
   "source": [
    "#Output maximum probability category\n",
    "def maximum(dict1):\n",
    "    values = dict1.values()\n",
    "    keys = dict1.keys()\n",
    "    max_index = values.index(max(values))\n",
    "    max_key = keys[max_index]\n",
    "    return max_key\n",
    "\n",
    "#Testing on X_test\n",
    "\n",
    "def Prediction(elem):\n",
    "    predict_dict = {}\n",
    "    for label in labels:\n",
    "        prior = crime_dict[label]\n",
    "        likelihood = 1.0\n",
    "        for i in range(0, len(elem)):\n",
    "            if elem[i] in dic[label][i].keys():\n",
    "                likelihood *= dic[label][i][elem[i]]\n",
    "            else:\n",
    "                likelihood *= 0.0\n",
    "        predict_dict[label] = likelihood\n",
    "    return maximum(predict_dict)   \n",
    "        \n",
    "\n",
    "def classify(X_matrix):\n",
    "        predicted_y = []\n",
    "        no_rows, no_cols = np.shape(X_matrix)\n",
    "        for i in range(0,no_rows):\n",
    "            elem = X_matrix[i,:]\n",
    "            prediction = Prediction(elem)\n",
    "            predicted_y.append(prediction)\n",
    "        return predicted_y\n",
    "\n",
    "classify(X_test)\n",
    "predicted_y = classify(X_test)\n",
    "y_labels = np.unique(y_test)\n",
    "tt = np.array(predicted_y)\n",
    "\n",
    "for y_label in y_labels:\n",
    "    f1 = f1_score(tt, y_test, y_label, average=\"weighted\")\n",
    "    #print(\"F1-score on the test-set for class %s is: %s\" % (y_label, f1))"
   ]
  },
  {
   "cell_type": "code",
   "execution_count": 439,
   "metadata": {
    "collapsed": false
   },
   "outputs": [
    {
     "data": {
      "text/plain": [
       "0.17058823529411765"
      ]
     },
     "execution_count": 439,
     "metadata": {},
     "output_type": "execute_result"
    }
   ],
   "source": [
    "accuracy_score(y_test, tt)"
   ]
  },
  {
   "cell_type": "code",
   "execution_count": 440,
   "metadata": {
    "collapsed": false
   },
   "outputs": [
    {
     "name": "stdout",
     "output_type": "stream",
     "text": [
      "                             precision    recall  f1-score   support\n",
      "\n",
      "                      ARSON       0.00      0.00      0.00         1\n",
      "                    ASSAULT       0.46      0.30      0.36        20\n",
      "                    BRIBERY       0.00      0.00      0.00         1\n",
      "                   BURGLARY       0.25      0.14      0.18         7\n",
      "         DISORDERLY CONDUCT       0.00      0.00      0.00         2\n",
      "DRIVING UNDER THE INFLUENCE       1.00      0.50      0.67         2\n",
      "              DRUG/NARCOTIC       0.56      0.45      0.50        11\n",
      "                DRUNKENNESS       0.00      0.00      0.00         1\n",
      "               EMBEZZLEMENT       0.00      0.00      0.00         1\n",
      "                  EXTORTION       1.00      0.50      0.67         2\n",
      "     FORGERY/COUNTERFEITING       0.00      0.00      0.00         2\n",
      "                      FRAUD       0.00      0.00      0.00         1\n",
      "                 KIDNAPPING       0.22      0.11      0.15        18\n",
      "              LARCENY/THEFT       0.00      0.00      0.00         1\n",
      "                LIQUOR LAWS       0.62      0.62      0.62         8\n",
      "             MISSING PERSON       0.50      0.12      0.19        25\n",
      "               NON-CRIMINAL       0.13      0.09      0.11        23\n",
      "             OTHER OFFENSES       0.00      0.00      0.00         1\n",
      "               PROSTITUTION       0.00      0.00      0.00         4\n",
      "          RECOVERED VEHICLE       0.00      0.00      0.00         0\n",
      "                    ROBBERY       0.00      0.00      0.00         0\n",
      "                    RUNAWAY       0.00      0.00      0.00         3\n",
      "            SECONDARY CODES       0.00      0.00      0.00        12\n",
      "     SEX OFFENSES, FORCIBLE       0.00      0.00      0.00         1\n",
      "            STOLEN PROPERTY       0.00      0.00      0.00         3\n",
      "                    SUICIDE       0.00      0.00      0.00         8\n",
      "             SUSPICIOUS OCC       0.22      0.18      0.20        11\n",
      "                   TRESPASS       0.33      1.00      0.50         1\n",
      "\n",
      "                avg / total       0.28      0.17      0.20       170\n",
      "\n"
     ]
    }
   ],
   "source": [
    "from sklearn.metrics import classification_report\n",
    "print(classification_report(y_test, tt, target_names=labels))"
   ]
  },
  {
   "cell_type": "code",
   "execution_count": null,
   "metadata": {
    "collapsed": true
   },
   "outputs": [],
   "source": []
  },
  {
   "cell_type": "code",
   "execution_count": null,
   "metadata": {
    "collapsed": true
   },
   "outputs": [],
   "source": []
  }
 ],
 "metadata": {
  "kernelspec": {
   "display_name": "Python 2",
   "language": "python",
   "name": "python2"
  }
 },
 "nbformat": 4,
 "nbformat_minor": 2
}
