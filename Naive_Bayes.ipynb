{
 "cells": [
  {
   "cell_type": "code",
   "execution_count": 448,
   "metadata": {
    "collapsed": false
   },
   "outputs": [],
   "source": [
    "import pandas as pd\n",
    "import numpy as np\n",
    "from sklearn.model_selection import train_test_split\n",
    "from collections import Counter, defaultdict\n",
    "from sklearn.metrics import f1_score\n",
    "from sklearn.metrics import accuracy_score"
   ]
  },
  {
   "cell_type": "code",
   "execution_count": 463,
   "metadata": {
    "collapsed": false
   },
   "outputs": [
    {
     "name": "stdout",
     "output_type": "stream",
     "text": [
      "(10000, 13)\n",
      "(10000, 16)\n"
     ]
    }
   ],
   "source": [
    "data = pd.read_csv(\"C:\\Users\\Niku\\Documents\\ML Project\\data10000.csv\")\n",
    "print data.shape\n",
    "data['Date'] = pd.to_datetime(data['Date'])\n",
    "data['Year'] = data['Date'].dt.year\n",
    "data['Month'] = data['Date'].dt.month\n",
    "data['DateOnly'] = data['Date'].dt.day\n",
    "print data.shape"
   ]
  },
  {
   "cell_type": "code",
   "execution_count": 488,
   "metadata": {
    "collapsed": false
   },
   "outputs": [
    {
     "name": "stdout",
     "output_type": "stream",
     "text": [
      "(10000, 8)\n",
      "(5000L, 8L)\n",
      "(5000L, 8L)\n",
      "(5000L,)\n"
     ]
    }
   ],
   "source": [
    "X = data[['DayOfWeek', 'PdDistrict', 'X', 'Y', 'Year', 'Month', 'DateOnly', 'Time']] #Acc = 0.15\n",
    "#X = data[['DayOfWeek', 'PdDistrict', 'X', 'Y', 'Year', 'Month', 'DateOnly']] #Acc = 0.16\n",
    "#X = data[['DayOfWeek',  'X', 'Y', 'Year', 'Month', 'DateOnly', 'Time']] #Acc = 0.155\n",
    "#X = data[[ 'PdDistrict', 'X', 'Y', 'Year', 'Month', 'DateOnly', 'Time']] #Acc = 0.17 with test size 0.05\n",
    "print X.shape\n",
    "X = X.values\n",
    "y = data['Category']\n",
    "y = y.values\n",
    "X_train, X_test, y_train, y_test = train_test_split(X, y, test_size = 0.5, random_state=1)\n",
    "print X_train.shape\n",
    "print X_test.shape\n",
    "print y_test.shape"
   ]
  },
  {
   "cell_type": "code",
   "execution_count": 489,
   "metadata": {
    "collapsed": false
   },
   "outputs": [
    {
     "data": {
      "text/plain": [
       "{'ARSON': 0.0028,\n",
       " 'ASSAULT': 0.0968,\n",
       " 'BAD CHECKS': 0.0002,\n",
       " 'BRIBERY': 0.0004,\n",
       " 'BURGLARY': 0.0434,\n",
       " 'DISORDERLY CONDUCT': 0.0032,\n",
       " 'DRIVING UNDER THE INFLUENCE': 0.0036,\n",
       " 'DRUG/NARCOTIC': 0.0324,\n",
       " 'DRUNKENNESS': 0.0052,\n",
       " 'EMBEZZLEMENT': 0.0008,\n",
       " 'EXTORTION': 0.0004,\n",
       " 'FAMILY OFFENSES': 0.0008,\n",
       " 'FORGERY/COUNTERFEITING': 0.0038,\n",
       " 'FRAUD': 0.0274,\n",
       " 'GAMBLING': 0.0008,\n",
       " 'KIDNAPPING': 0.0028,\n",
       " 'LARCENY/THEFT': 0.1642,\n",
       " 'LIQUOR LAWS': 0.001,\n",
       " 'MISSING PERSON': 0.0304,\n",
       " 'NON-CRIMINAL': 0.1356,\n",
       " 'OTHER OFFENSES': 0.1604,\n",
       " 'PROSTITUTION': 0.0032,\n",
       " 'RECOVERED VEHICLE': 0.0072,\n",
       " 'ROBBERY': 0.0288,\n",
       " 'RUNAWAY': 0.0008,\n",
       " 'SECONDARY CODES': 0.0192,\n",
       " 'SEX OFFENSES, FORCIBLE': 0.0064,\n",
       " 'SEX OFFENSES, NON FORCIBLE': 0.0004,\n",
       " 'STOLEN PROPERTY': 0.009,\n",
       " 'SUICIDE': 0.0002,\n",
       " 'SUSPICIOUS OCC': 0.0372,\n",
       " 'TRESPASS': 0.0076,\n",
       " 'VANDALISM': 0.039,\n",
       " 'VEHICLE THEFT': 0.0506,\n",
       " 'WARRANTS': 0.0598,\n",
       " 'WEAPON LAWS': 0.0142}"
      ]
     },
     "execution_count": 489,
     "metadata": {},
     "output_type": "execute_result"
    }
   ],
   "source": [
    "def Prob(y_vector):\n",
    "    total = len(y_vector)\n",
    "    r_dict = {}\n",
    "    cnt = Counter(y_vector)\n",
    "    for key, value in cnt.items():\n",
    "        r_dict[key] = float(value)/total\n",
    "    return r_dict\n",
    "    \n",
    "dic = {}  \n",
    "#ClassifyingByLabels \n",
    "def ClassifyByLabels(X_matrix, y_vector):\n",
    "    \n",
    "    [rows, columns] = np.shape(X_matrix)\n",
    "    total = rows\n",
    "    labels = np.unique(y_vector)\n",
    "    for label in labels:\n",
    "        dic[label] = defaultdict(list)\n",
    "    for label in labels:\n",
    "        row_indices = np.where(y_vector == label)[0] \n",
    "        X_current = X_train[row_indices, :]\n",
    "        for i in range(0,columns):\n",
    "            dic[label][i] += list(X_current[:,i])\n",
    "    for label in labels:\n",
    "        for col in range(0, columns):\n",
    "            dic[label][col] = Prob(dic[label][col])\n",
    "            #print dic[label][col]\n",
    "            \n",
    "ClassifyByLabels(X_train, y_train)   \n",
    "crime_dict = Prob(y_train)\n",
    "crime_dict"
   ]
  },
  {
   "cell_type": "code",
   "execution_count": 490,
   "metadata": {
    "collapsed": false
   },
   "outputs": [
    {
     "name": "stdout",
     "output_type": "stream",
     "text": [
      "<type 'numpy.ndarray'>\n",
      "F1-score on the test-set for class ARSON is: 0.133041416187\n",
      "F1-score on the test-set for class ASSAULT is: 0.125517222984\n",
      "F1-score on the test-set for class BAD CHECKS is: 0.160594333514\n",
      "F1-score on the test-set for class BRIBERY is: 0.125517222984\n",
      "F1-score on the test-set for class BURGLARY is: 0.166315342492\n",
      "F1-score on the test-set for class DISORDERLY CONDUCT is: 0.0536366774134\n",
      "F1-score on the test-set for class DRIVING UNDER THE INFLUENCE is: 0.078765695458\n",
      "F1-score on the test-set for class DRUG/NARCOTIC is: 0.1561329958\n",
      "F1-score on the test-set for class DRUNKENNESS is: 0.160594333514\n",
      "F1-score on the test-set for class EMBEZZLEMENT is: 0.158712476994\n",
      "F1-score on the test-set for class FAMILY OFFENSES is: 0.0369818400488\n",
      "F1-score on the test-set for class FORGERY/COUNTERFEITING is: 0.0792159971871\n",
      "F1-score on the test-set for class FRAUD is: 0.145113288014\n",
      "F1-score on the test-set for class GAMBLING is: 0.125517222984\n",
      "F1-score on the test-set for class KIDNAPPING is: 0.0322477493304\n",
      "F1-score on the test-set for class LARCENY/THEFT is: 0.182537998018\n",
      "F1-score on the test-set for class LIQUOR LAWS is: 0.159762238522\n",
      "F1-score on the test-set for class LOITERING is: 0.166315342492\n",
      "F1-score on the test-set for class MISSING PERSON is: 0.219443454481\n",
      "F1-score on the test-set for class NON-CRIMINAL is: 0.15683533377\n",
      "F1-score on the test-set for class OTHER OFFENSES is: 0.140202120646\n",
      "F1-score on the test-set for class PORNOGRAPHY/OBSCENE MAT is: 0.0794764374357\n",
      "F1-score on the test-set for class PROSTITUTION is: 0.161491243444\n",
      "F1-score on the test-set for class RECOVERED VEHICLE is: 0.0536059400624\n",
      "F1-score on the test-set for class ROBBERY is: 0.129902552158\n",
      "F1-score on the test-set for class RUNAWAY is: 0.128489999317\n",
      "F1-score on the test-set for class SECONDARY CODES is: 0.137469736376\n",
      "F1-score on the test-set for class SEX OFFENSES, FORCIBLE is: 0.0801209330992\n",
      "F1-score on the test-set for class SEX OFFENSES, NON FORCIBLE is: 0.0805147718624\n",
      "F1-score on the test-set for class STOLEN PROPERTY is: 0.145883925416\n",
      "F1-score on the test-set for class SUICIDE is: 0.129512466155\n",
      "F1-score on the test-set for class SUSPICIOUS OCC is: 0.142941280689\n",
      "F1-score on the test-set for class TREA is: 0.146758595581\n",
      "F1-score on the test-set for class TRESPASS is: 0.117976971505\n",
      "F1-score on the test-set for class VANDALISM is: 0.15514599402\n",
      "F1-score on the test-set for class VEHICLE THEFT is: 0.15383182238\n",
      "F1-score on the test-set for class WARRANTS is: 0.130843092527\n",
      "F1-score on the test-set for class WEAPON LAWS is: 0.158760318379\n"
     ]
    }
   ],
   "source": [
    "#Output maximum probability category\n",
    "def maximum(dict1):\n",
    "    values = dict1.values()\n",
    "    keys = dict1.keys()\n",
    "    max_index = values.index(max(values))\n",
    "    max_key = keys[max_index]\n",
    "    return max_key\n",
    "\n",
    "#Testing on X_test\n",
    "\n",
    "def Prediction(elem):\n",
    "    predict_dict = {}\n",
    "    for label in labels:\n",
    "        prior = crime_dict[label]\n",
    "        likelihood = 1.0\n",
    "        for i in range(0, len(elem)):\n",
    "            if elem[i] in dic[label][i].keys():\n",
    "                likelihood *= dic[label][i][elem[i]]\n",
    "            else:\n",
    "                likelihood *= 0.0\n",
    "        predict_dict[label] = likelihood\n",
    "    return maximum(predict_dict)   \n",
    "        \n",
    "\n",
    "def classify(X_matrix):\n",
    "        predicted_y = []\n",
    "        no_rows, no_cols = np.shape(X_matrix)\n",
    "        for i in range(0,no_rows):\n",
    "            elem = X_matrix[i,:]\n",
    "            prediction = Prediction(elem)\n",
    "            predicted_y.append(prediction)\n",
    "        return predicted_y\n",
    "\n",
    "classify(X_test)\n",
    "predicted_y = classify(X_test)\n",
    "y_labels = np.unique(y_test)\n",
    "tt = np.array(predicted_y)\n",
    "print type(tt)\n",
    "for y_label in y_labels:\n",
    "    f1 = f1_score(tt, y_test, y_label, average=\"weighted\")\n",
    "    print(\"F1-score on the test-set for class %s is: %s\" % (y_label, f1))"
   ]
  },
  {
   "cell_type": "code",
   "execution_count": 491,
   "metadata": {
    "collapsed": false
   },
   "outputs": [
    {
     "data": {
      "text/plain": [
       "0.11700000000000001"
      ]
     },
     "execution_count": 491,
     "metadata": {},
     "output_type": "execute_result"
    }
   ],
   "source": [
    "accuracy_score(y_test, tt)"
   ]
  },
  {
   "cell_type": "code",
   "execution_count": 492,
   "metadata": {
    "collapsed": false
   },
   "outputs": [
    {
     "name": "stdout",
     "output_type": "stream",
     "text": [
      "                             precision    recall  f1-score   support\n",
      "\n",
      "                      ARSON       0.00      0.00      0.00        16\n",
      "                    ASSAULT       0.21      0.12      0.15       493\n",
      "                 BAD CHECKS       0.00      0.00      0.00         2\n",
      "                    BRIBERY       0.00      0.00      0.00         4\n",
      "                   BURGLARY       0.17      0.06      0.09       243\n",
      "         DISORDERLY CONDUCT       0.00      0.00      0.00        12\n",
      "DRIVING UNDER THE INFLUENCE       0.00      0.00      0.00        16\n",
      "              DRUG/NARCOTIC       0.25      0.27      0.26       155\n",
      "                DRUNKENNESS       0.00      0.00      0.00        17\n",
      "               EMBEZZLEMENT       0.50      0.11      0.18         9\n",
      "            FAMILY OFFENSES       0.00      0.00      0.00         5\n",
      "     FORGERY/COUNTERFEITING       0.11      0.14      0.12        22\n",
      "                      FRAUD       0.14      0.14      0.14       113\n",
      "                   GAMBLING       0.00      0.00      0.00         2\n",
      "                 KIDNAPPING       0.00      0.18      0.00        17\n",
      "              LARCENY/THEFT       0.42      0.16      0.23       793\n",
      "                LIQUOR LAWS       0.00      0.00      0.00         3\n",
      "                  LOITERING       0.00      0.00      0.00         2\n",
      "             MISSING PERSON       0.73      0.46      0.57       205\n",
      "               NON-CRIMINAL       0.26      0.10      0.15       651\n",
      "             OTHER OFFENSES       0.18      0.07      0.10       765\n",
      "    PORNOGRAPHY/OBSCENE MAT       0.00      0.00      0.00         1\n",
      "               PROSTITUTION       0.29      0.20      0.24        10\n",
      "          RECOVERED VEHICLE       0.00      0.00      0.00        34\n",
      "                    ROBBERY       0.17      0.11      0.13       150\n",
      "                    RUNAWAY       0.00      0.00      0.00         6\n",
      "            SECONDARY CODES       0.01      0.01      0.01        91\n",
      "     SEX OFFENSES, FORCIBLE       0.26      0.23      0.24        26\n",
      " SEX OFFENSES, NON FORCIBLE       0.00      0.00      0.00         1\n",
      "            STOLEN PROPERTY       0.02      0.03      0.02        34\n",
      "                    SUICIDE       0.00      0.00      0.00         1\n",
      "             SUSPICIOUS OCC       0.06      0.02      0.03       216\n",
      "                       TREA       0.00      0.00      0.00         1\n",
      "                   TRESPASS       0.03      0.02      0.03        44\n",
      "                  VANDALISM       0.13      0.06      0.08       186\n",
      "              VEHICLE THEFT       0.30      0.06      0.10       280\n",
      "                   WARRANTS       0.17      0.12      0.14       305\n",
      "                WEAPON LAWS       0.17      0.12      0.14        69\n",
      "\n",
      "                avg / total       0.24      0.12      0.15      5000\n",
      "\n"
     ]
    }
   ],
   "source": [
    "from sklearn.metrics import classification_report\n",
    "print(classification_report(y_test, tt))"
   ]
  },
  {
   "cell_type": "code",
   "execution_count": null,
   "metadata": {
    "collapsed": true
   },
   "outputs": [],
   "source": []
  },
  {
   "cell_type": "code",
   "execution_count": null,
   "metadata": {
    "collapsed": true
   },
   "outputs": [],
   "source": []
  }
 ],
 "metadata": {
  "kernelspec": {
   "display_name": "Python 2",
   "language": "python",
   "name": "python2"
  }
 },
 "nbformat": 4,
 "nbformat_minor": 2
}
