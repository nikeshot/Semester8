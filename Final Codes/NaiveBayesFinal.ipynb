{
 "cells": [
  {
   "cell_type": "code",
   "execution_count": 1,
   "metadata": {
    "collapsed": true
   },
   "outputs": [],
   "source": [
    "import numpy as np\n",
    "import pandas as pd\n",
    "import matplotlib.pyplot as plt\n",
    "%matplotlib inline\n",
    "import scipy.optimize as opt\n",
    "from sklearn.model_selection import train_test_split"
   ]
  },
  {
   "cell_type": "code",
   "execution_count": 2,
   "metadata": {
    "collapsed": false
   },
   "outputs": [
    {
     "data": {
      "text/plain": [
       "(1994, 121)"
      ]
     },
     "execution_count": 2,
     "metadata": {},
     "output_type": "execute_result"
    }
   ],
   "source": [
    "data = pd.read_excel(\"C:/Users/Niku/Documents/Semester8/DataFiles/datasetnorm1.xlsx\")\n",
    "data.shape"
   ]
  },
  {
   "cell_type": "code",
   "execution_count": 3,
   "metadata": {
    "collapsed": true
   },
   "outputs": [],
   "source": [
    "Normdata = np.matrix(data)\n",
    "cols = Normdata.shape[1]\n",
    "X = Normdata[:,0:cols-1]\n",
    "y = Normdata[:,cols-1:cols]"
   ]
  },
  {
   "cell_type": "code",
   "execution_count": 4,
   "metadata": {
    "collapsed": true
   },
   "outputs": [],
   "source": [
    "X = np.matrix(X)\n",
    "y = np.matrix(y)"
   ]
  },
  {
   "cell_type": "code",
   "execution_count": 5,
   "metadata": {
    "collapsed": false
   },
   "outputs": [
    {
     "data": {
      "text/plain": [
       "((997L, 120L), (997L, 1L))"
      ]
     },
     "execution_count": 5,
     "metadata": {},
     "output_type": "execute_result"
    }
   ],
   "source": [
    "X_train, X_test, y_train, y_test = train_test_split(X, y, test_size = 0.5, random_state=1)\n",
    "X_train.shape, y_train.shape"
   ]
  },
  {
   "cell_type": "code",
   "execution_count": 6,
   "metadata": {
    "collapsed": false
   },
   "outputs": [],
   "source": [
    "len1 = int(np.sum(y_train))\n",
    "len0 = len(y_train) - len1\n",
    "X_1 = np.zeros((len1, X_train.shape[1]))\n",
    "X_0 = np.zeros((len0, X_train.shape[1]))\n",
    "j = 0\n",
    "k = 0\n",
    "X_1 = np.matrix(X_1)\n",
    "for i in range(0, len(X_train)):\n",
    "    if y_train[i] == 1:\n",
    "        X_1[j] = X_train[i]\n",
    "        j = j+1\n",
    "    else:\n",
    "        X_0[k] = X_train[i]\n",
    "        k = k+1"
   ]
  },
  {
   "cell_type": "code",
   "execution_count": 7,
   "metadata": {
    "collapsed": false,
    "scrolled": true
   },
   "outputs": [],
   "source": [
    "rows = X_train.shape[0]\n",
    "cols = X_train.shape[1]\n",
    "pC = np.sum(y_train)/len(y_train)\n",
    "pNC = 1 - pC"
   ]
  },
  {
   "cell_type": "code",
   "execution_count": 8,
   "metadata": {
    "collapsed": false
   },
   "outputs": [],
   "source": [
    "X_1 = np.matrix(X_1)\n",
    "X_0 = np.matrix(X_0)\n",
    "mean = np.zeros((2,cols))\n",
    "std = np.zeros((2,cols))"
   ]
  },
  {
   "cell_type": "code",
   "execution_count": 9,
   "metadata": {
    "collapsed": false
   },
   "outputs": [],
   "source": [
    "def calc(cat, X):\n",
    "    cols = X.shape[1]\n",
    "    for i in range(0, cols):\n",
    "        #print i\n",
    "        cur = np.array(X[:,i])\n",
    "        mean[cat,i] = np.mean(cur)\n",
    "        std[cat,i] = np.std(cur)\n",
    "        #print mean[cat,i], std[cat,i]"
   ]
  },
  {
   "cell_type": "code",
   "execution_count": 10,
   "metadata": {
    "collapsed": false,
    "scrolled": true
   },
   "outputs": [],
   "source": [
    "calc(0, X_0)\n",
    "calc(1, X_1)"
   ]
  },
  {
   "cell_type": "code",
   "execution_count": 11,
   "metadata": {
    "collapsed": false
   },
   "outputs": [],
   "source": [
    "def gauss(val, meanx, stdx):\n",
    "    temp1 = 1/np.sqrt(2*3.1415*(stdx**2))\n",
    "    temp2 = -(val-meanx)**2\n",
    "    temp3 = 2*(stdx**2)\n",
    "    temp4 = np.exp(temp2/temp3)*temp1\n",
    "    return temp4"
   ]
  },
  {
   "cell_type": "code",
   "execution_count": 12,
   "metadata": {
    "collapsed": false
   },
   "outputs": [],
   "source": [
    "def predict0(ex):\n",
    "    prob = pNC\n",
    "    p = 1.0\n",
    "    for i in range(0, cols):\n",
    "        p = gauss(ex[0,i], mean[0,i], std[0,i])\n",
    "        prob = prob * p\n",
    "        #print prob\n",
    "    return prob"
   ]
  },
  {
   "cell_type": "code",
   "execution_count": 13,
   "metadata": {
    "collapsed": false
   },
   "outputs": [],
   "source": [
    "def predict1(ex):\n",
    "    prob = pC\n",
    "    p = 1.0\n",
    "    for i in range(0, cols):\n",
    "        p = gauss(ex[0,i], mean[1,i], std[1,i])\n",
    "        prob = prob * p\n",
    "        #print prob\n",
    "    return prob"
   ]
  },
  {
   "cell_type": "code",
   "execution_count": 14,
   "metadata": {
    "collapsed": false,
    "scrolled": false
   },
   "outputs": [],
   "source": [
    "def predict(X):\n",
    "    y_test = np.zeros(len(X_test))\n",
    "    for i in range(0, len(X)):\n",
    "        prob0 = predict0(X[i])\n",
    "        prob1 = predict1(X[i])\n",
    "        if prob1 > prob0:\n",
    "            y_test[i] = 1\n",
    "        else:\n",
    "            y_test[i] = 0\n",
    "    return y_test"
   ]
  },
  {
   "cell_type": "code",
   "execution_count": 15,
   "metadata": {
    "collapsed": false
   },
   "outputs": [
    {
     "name": "stdout",
     "output_type": "stream",
     "text": [
      "accuracy = 86.8605817452%\n"
     ]
    }
   ],
   "source": [
    "predictions = predict(X_test)\n",
    "correct = [1 if ((a == 1 and b == 1) or (a == 0 and b == 0)) else 0 for (a, b) in zip(predictions, y_test)]\n",
    "accuracy = (sum(map(int, correct))*100.0 / len(correct))\n",
    "print 'accuracy = {0}%'.format(accuracy)"
   ]
  },
  {
   "cell_type": "code",
   "execution_count": 24,
   "metadata": {
    "collapsed": false
   },
   "outputs": [
    {
     "name": "stdout",
     "output_type": "stream",
     "text": [
      "accuracy = 86.5596790371%\n",
      "accuracy = 86.5596790371%\n",
      "accuracy = 86.5596790371%\n",
      "accuracy = 86.5596790371%\n",
      "accuracy = 86.5596790371%\n",
      "accuracy = 86.5596790371%\n",
      "accuracy = 86.5596790371%\n",
      "accuracy = 86.5596790371%\n",
      "accuracy = 86.5596790371%\n",
      "accuracy = 86.5596790371%\n"
     ]
    }
   ],
   "source": [
    "y_pred = np.zeros(X_test.shape[0])\n",
    "count = 0\n",
    "prec = np.zeros(10)\n",
    "recal = np.zeros(10)\n",
    "f1 = np.zeros(10)\n",
    "acc = np.zeros(10)\n",
    "auc =  np.zeros(10)\n",
    "from sklearn import metrics\n",
    "from sklearn.metrics import accuracy_score, f1_score, precision_score, recall_score, classification_report\n",
    "for l in range(10):\n",
    "    X_train, X_test, y_train, y_test = train_test_split(X, y, test_size = 0.5)\n",
    "    y_pred = predict(X_test)\n",
    "    prec[l] = precision_score(y_test, y_pred, average=\"weighted\")\n",
    "    recal[l] = recall_score(y_test, y_pred, average=\"weighted\")\n",
    "    f1[l] = f1_score(y_test, y_pred, average=\"weighted\")\n",
    "    acc[l] = accuracy_score(y_test, y_pred)\n",
    "    fpr, tpr, thresholds = metrics.roc_curve(y_test, y_pred) \n",
    "    auc[l] = metrics.auc(fpr, tpr)"
   ]
  },
  {
   "cell_type": "code",
   "execution_count": 27,
   "metadata": {
    "collapsed": false
   },
   "outputs": [
    {
     "data": {
      "text/plain": [
       "(0.85757737458096484,\n",
       " 0.85396188565697084,\n",
       " 0.85155880920662097,\n",
       " 0.85396188565697084,\n",
       " 0.83867654768150612)"
      ]
     },
     "execution_count": 27,
     "metadata": {},
     "output_type": "execute_result"
    }
   ],
   "source": [
    "np.mean(prec), np.mean(recal), np.mean(f1), np.mean(acc), np.mean(auc)"
   ]
  },
  {
   "cell_type": "code",
   "execution_count": null,
   "metadata": {
    "collapsed": true
   },
   "outputs": [],
   "source": []
  }
 ],
 "metadata": {
  "kernelspec": {
   "display_name": "Python 2",
   "language": "python",
   "name": "python2"
  },
  "language_info": {
   "codemirror_mode": {
    "name": "ipython",
    "version": 2
   },
   "file_extension": ".py",
   "mimetype": "text/x-python",
   "name": "python",
   "nbconvert_exporter": "python",
   "pygments_lexer": "ipython2",
   "version": "2.7.13"
  }
 },
 "nbformat": 4,
 "nbformat_minor": 2
}
