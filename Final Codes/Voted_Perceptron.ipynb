{
 "cells": [
  {
   "cell_type": "code",
   "execution_count": 107,
   "metadata": {
    "collapsed": true
   },
   "outputs": [],
   "source": [
    "import numpy as np\n",
    "import pandas as pd\n",
    "import matplotlib.pyplot as plt\n",
    "%matplotlib inline\n",
    "import scipy.optimize as opt\n",
    "from sklearn.model_selection import train_test_split"
   ]
  },
  {
   "cell_type": "code",
   "execution_count": 108,
   "metadata": {
    "collapsed": false
   },
   "outputs": [
    {
     "data": {
      "text/plain": [
       "(1994, 121)"
      ]
     },
     "execution_count": 108,
     "metadata": {},
     "output_type": "execute_result"
    }
   ],
   "source": [
    "data = pd.read_excel(\"C:/Users/Niku/Documents/Semester8/DataFiles/dataset1.xlsx\")\n",
    "data.shape"
   ]
  },
  {
   "cell_type": "code",
   "execution_count": 109,
   "metadata": {
    "collapsed": false
   },
   "outputs": [],
   "source": [
    "Normdata = data\n",
    "Normdata = np.matrix(Normdata)\n",
    "cols = Normdata.shape[1]\n",
    "\n",
    "X = Normdata[:,1:cols-1]\n",
    "y = Normdata[:,cols-1:cols]"
   ]
  },
  {
   "cell_type": "code",
   "execution_count": 110,
   "metadata": {
    "collapsed": false
   },
   "outputs": [
    {
     "data": {
      "text/plain": [
       "(1994L, 119L)"
      ]
     },
     "execution_count": 110,
     "metadata": {},
     "output_type": "execute_result"
    }
   ],
   "source": [
    "X = np.matrix(X)\n",
    "y = np.matrix(y)"
   ]
  },
  {
   "cell_type": "code",
   "execution_count": 112,
   "metadata": {
    "collapsed": false
   },
   "outputs": [],
   "source": [
    "for i in range(len(y)):\n",
    "    if y[i] == 0:\n",
    "        y[i] = -1"
   ]
  },
  {
   "cell_type": "code",
   "execution_count": 114,
   "metadata": {
    "collapsed": true
   },
   "outputs": [],
   "source": [
    "def initialiseLMC():\n",
    "    c = np.zeros(100000)\n",
    "    V = np.zeros((100000, X_train.shape[1]-1))\n",
    "    V = np.insert(V, 0, values=np.ones(V.shape[0]), axis=1)\n",
    "    k = 0\n",
    "    return V, c, k"
   ]
  },
  {
   "cell_type": "code",
   "execution_count": 115,
   "metadata": {
    "collapsed": false,
    "scrolled": true
   },
   "outputs": [],
   "source": [
    "def trainLMC(X_train, y_train, V, c, t, m, k):\n",
    "    #print 'Training Started'\n",
    "    m = X_train.shape[0]\n",
    "    n = X_train.shape[1]\n",
    "    c = np.zeros(100000)\n",
    "    #V = np.zeros((996, n))\n",
    "    #V = np.insert(V, 0, values=np.ones(V.shape[0]), axis=1)\n",
    "    for e in range(t):\n",
    "        #print e\n",
    "        for i in range(0, m-1):\n",
    "            y_pred = np.sign(np.dot(X_train[i], V[k].T))\n",
    "            if y_pred == y_train[i]:\n",
    "                c[k+1] = c[k] + 1\n",
    "            else:\n",
    "                d = np.asscalar(y_train[i])\n",
    "                p = V[k] + (d*X_train[i]).T\n",
    "                V[k+1] = V[k] + (d*X_train[i])\n",
    "                c[k+1] = 1\n",
    "                k = k + 1\n",
    "    #print 'Done training' \n",
    "    #print k\n",
    "    return V, c, k"
   ]
  },
  {
   "cell_type": "code",
   "execution_count": 116,
   "metadata": {
    "collapsed": false,
    "scrolled": true
   },
   "outputs": [],
   "source": [
    "def predictLMC(X_test, V, c, k):\n",
    "    y_LMC = np.zeros(X_test.shape[0])\n",
    "    a = np.zeros(k)\n",
    "    for j in range(0, X_test.shape[0]):\n",
    "        for i in range(0, k):\n",
    "            a[i] = c[i] * np.sign(np.dot(X_test[j], V[i].T))\n",
    "            s = np.sum(a)\n",
    "            y_LMC[j] = np.sign(s)\n",
    "    #print 'Test Data Created'\n",
    "    return y_LMC"
   ]
  },
  {
   "cell_type": "code",
   "execution_count": 132,
   "metadata": {
    "collapsed": false
   },
   "outputs": [
    {
     "name": "stdout",
     "output_type": "stream",
     "text": [
      "25\n",
      "25 6816.0 0.828676311688 0.828986960883 0.828800404037 0.828986960883 0.821264298835\n",
      "50\n",
      "50 12862.0 0.820983916825 0.820962888666 0.820383782899 0.820962888666 0.81280738967\n",
      "75\n",
      "75 17842.5 0.84284137521 0.843029087262 0.841810914118 0.843029087262 0.831625637828\n",
      "100\n",
      "100 24120.0 0.850759759353 0.851053159478 0.850829765266 0.851053159478 0.844719564202\n"
     ]
    }
   ],
   "source": [
    "epoch = [1, 2, 3, 4, 5, 10, 15, 20, 25, 50, 75, 100]\n",
    "count = 0\n",
    "prec = np.zeros((12,2))\n",
    "recal = np.zeros((12,2))\n",
    "f1 = np.zeros((12,2))\n",
    "acc = np.zeros((12,2))\n",
    "auc =  np.zeros((12,2))\n",
    "K = np.zeros((12,2))\n",
    "from sklearn.metrics import accuracy_score, f1_score, precision_score, recall_score, classification_report\n",
    "from sklearn import metrics\n",
    "for i in range(8,12):\n",
    "    t = epoch[i]\n",
    "    print t\n",
    "    for l in range(0,2):\n",
    "        X_train, X_test, y_train, y_test = train_test_split(X, y, test_size = 0.5)\n",
    "        X_train = np.insert(X_train, 0, values=np.ones(X_train.shape[0]), axis=1)\n",
    "        X_test = np.insert(X_test, 0, values=np.ones(X_test.shape[0]), axis=1)\n",
    "        V, c, k= initialiseLMC()\n",
    "        V, c, k = trainLMC(X_train, y_train, V, c, t, X_train.shape[0], k)\n",
    "        K[count, l] = k\n",
    "        y_LMC = predictLMC(X_test, V, c, k)\n",
    "        y_LMC[y_LMC == 0] = 1\n",
    "        y_pred = y_LMC\n",
    "        prec[count, l] = precision_score(y_test, y_pred, average=\"weighted\")\n",
    "        recal[count, l] = recall_score(y_test, y_pred, average=\"weighted\")\n",
    "        f1[count, l] = f1_score(y_test, y_pred, average=\"weighted\")\n",
    "        acc[count, l] = accuracy_score(y_test, y_pred)\n",
    "        fpr, tpr, thresholds = metrics.roc_curve(y_test, y_pred) \n",
    "        auc[count, l] = metrics.auc(fpr, tpr)\n",
    "        #print t, count , l, acc[count, l], k\n",
    "    print t, (K[count, 0]+K[count,1])*1.0/2, (prec[count, 0]+prec[count,1])*1.0/2, (recal[count, 0]+recal[count,1])*1.0/2, (f1[count, 0]+f1[count,1])*1.0/2, (acc[count, 0]+acc[count,1])*1.0/2,(auc[count, 0]+auc[count,1])*1.0/2\n",
    "    count += 1"
   ]
  },
  {
   "cell_type": "code",
   "execution_count": null,
   "metadata": {
    "collapsed": true
   },
   "outputs": [],
   "source": []
  }
 ],
 "metadata": {
  "kernelspec": {
   "display_name": "Python 2",
   "language": "python",
   "name": "python2"
  },
  "language_info": {
   "codemirror_mode": {
    "name": "ipython",
    "version": 2
   },
   "file_extension": ".py",
   "mimetype": "text/x-python",
   "name": "python",
   "nbconvert_exporter": "python",
   "pygments_lexer": "ipython2",
   "version": "2.7.13"
  }
 },
 "nbformat": 4,
 "nbformat_minor": 2
}
