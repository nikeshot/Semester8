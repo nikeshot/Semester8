{
 "cells": [
  {
   "cell_type": "code",
   "execution_count": 19,
   "metadata": {
    "collapsed": true
   },
   "outputs": [],
   "source": [
    "import numpy as np\n",
    "import pandas as pd\n",
    "from sklearn.model_selection import train_test_split\n",
    "from sklearn.svm import SVC\n",
    "from sklearn import metrics\n",
    "from sklearn.metrics import accuracy_score, f1_score, precision_score, recall_score, classification_report"
   ]
  },
  {
   "cell_type": "code",
   "execution_count": 20,
   "metadata": {
    "collapsed": false
   },
   "outputs": [
    {
     "data": {
      "text/plain": [
       "(1994, 121)"
      ]
     },
     "execution_count": 20,
     "metadata": {},
     "output_type": "execute_result"
    }
   ],
   "source": [
    "data = pd.read_excel(\"C:/Users/Niku/Documents/Semester8/DataFiles/datasetnorm1.xlsx\")\n",
    "data.shape"
   ]
  },
  {
   "cell_type": "code",
   "execution_count": 21,
   "metadata": {
    "collapsed": true
   },
   "outputs": [],
   "source": [
    "Normdata = np.matrix(data)\n",
    "cols = Normdata.shape[1]\n",
    "X = Normdata[:,0:cols-1]\n",
    "y = Normdata[:,cols-1:cols]"
   ]
  },
  {
   "cell_type": "code",
   "execution_count": 22,
   "metadata": {
    "collapsed": true
   },
   "outputs": [],
   "source": [
    "X = np.matrix(X)\n",
    "y = np.matrix(y)"
   ]
  },
  {
   "cell_type": "code",
   "execution_count": 23,
   "metadata": {
    "collapsed": false
   },
   "outputs": [],
   "source": [
    "prec = np.zeros(10)\n",
    "recal = np.zeros(10)\n",
    "f1 = np.zeros(10)\n",
    "acc = np.zeros(10)\n",
    "auc =  np.zeros(10)\n",
    "for l in range(10):\n",
    "    X_train, X_test, y_train, y_test = train_test_split(X, y, test_size = 0.5)\n",
    "    clf = SVC()\n",
    "    clf.fit(X_train, np.array(y_train))\n",
    "    y_pred = clf.predict(X_test)\n",
    "    prec[l] = precision_score(y_test, y_pred, average=\"weighted\")\n",
    "    recal[l] = recall_score(y_test, y_pred, average=\"weighted\")\n",
    "    f1[l] = f1_score(y_test, y_pred, average=\"weighted\")\n",
    "    acc[l] = accuracy_score(y_test, y_pred)\n",
    "    fpr, tpr, thresholds = metrics.roc_curve(y_test, y_pred) \n",
    "    auc[l] = metrics.auc(fpr, tpr)"
   ]
  },
  {
   "cell_type": "code",
   "execution_count": 24,
   "metadata": {
    "collapsed": false
   },
   "outputs": [
    {
     "data": {
      "text/plain": [
       "(0.81254096473254678,\n",
       " 0.81153460381143427,\n",
       " 0.80905894427406833,\n",
       " 0.81153460381143427,\n",
       " 0.79665858530931699)"
      ]
     },
     "execution_count": 24,
     "metadata": {},
     "output_type": "execute_result"
    }
   ],
   "source": [
    "np.mean(prec), np.mean(recal), np.mean(f1), np.mean(acc), np.mean(auc)"
   ]
  },
  {
   "cell_type": "code",
   "execution_count": null,
   "metadata": {
    "collapsed": true
   },
   "outputs": [],
   "source": []
  }
 ],
 "metadata": {
  "kernelspec": {
   "display_name": "Python 2",
   "language": "python",
   "name": "python2"
  },
  "language_info": {
   "codemirror_mode": {
    "name": "ipython",
    "version": 2
   },
   "file_extension": ".py",
   "mimetype": "text/x-python",
   "name": "python",
   "nbconvert_exporter": "python",
   "pygments_lexer": "ipython2",
   "version": "2.7.13"
  }
 },
 "nbformat": 4,
 "nbformat_minor": 2
}
