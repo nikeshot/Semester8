{
 "cells": [
  {
   "cell_type": "code",
   "execution_count": 1,
   "metadata": {
    "collapsed": true
   },
   "outputs": [],
   "source": [
    "import numpy as np\n",
    "import pandas as pd\n",
    "import matplotlib.pyplot as plt\n",
    "%matplotlib inline\n",
    "import scipy.optimize as opt\n",
    "from sklearn.model_selection import train_test_split"
   ]
  },
  {
   "cell_type": "code",
   "execution_count": 2,
   "metadata": {
    "collapsed": false
   },
   "outputs": [
    {
     "data": {
      "text/plain": [
       "(1994, 121)"
      ]
     },
     "execution_count": 2,
     "metadata": {},
     "output_type": "execute_result"
    }
   ],
   "source": [
    "data = pd.read_excel(\"C:/Users/Niku/Documents/Semester8/DataFiles/datasetnorm1.xlsx\")\n",
    "#data = pd.read_excel(\"C:/Users/Niku/Documents/dataset/datatest.xlsx\")\n",
    "data.shape"
   ]
  },
  {
   "cell_type": "code",
   "execution_count": 3,
   "metadata": {
    "collapsed": true
   },
   "outputs": [],
   "source": [
    "Normdata = data\n",
    "Normdata = np.matrix(Normdata)\n",
    "for i in range(1, Normdata.shape[1]):\n",
    "    cur = Normdata[:, i]\n",
    "    mx = max(cur)*1.0\n",
    "    mn = min(cur)*1.0\n",
    "    for j in range(0, len(cur)):\n",
    "        cur[j] = (cur[j] - mn)/(mx - mn)\n",
    "    Normdata[:, i] = cur\n",
    "colus = Normdata.shape[1]\n",
    "X = Normdata[:,0:colus-1]\n",
    "y = Normdata[:,colus-1:colus]\n",
    "# convert to numpy arrays and initalize the parameter array theta\n",
    "#X = np.array(X.values)\n",
    "#y = np.array(y.values)"
   ]
  },
  {
   "cell_type": "code",
   "execution_count": 4,
   "metadata": {
    "collapsed": false
   },
   "outputs": [],
   "source": [
    "#X = np.matrix(data)\n",
    "#X = X[:,0:35]"
   ]
  },
  {
   "cell_type": "code",
   "execution_count": 5,
   "metadata": {
    "collapsed": false,
    "scrolled": true
   },
   "outputs": [
    {
     "data": {
      "text/plain": [
       "((997L, 120L), (997L, 1L))"
      ]
     },
     "execution_count": 5,
     "metadata": {},
     "output_type": "execute_result"
    }
   ],
   "source": [
    "X_train, X_test, y_train, y_test = train_test_split(X, y, test_size = 0.5, random_state=1)\n",
    "X_train.shape, y_train.shape"
   ]
  },
  {
   "cell_type": "code",
   "execution_count": 6,
   "metadata": {
    "collapsed": false
   },
   "outputs": [],
   "source": [
    "k = 2\n",
    "rows = X_train.shape[0]\n",
    "cols = X_train.shape[1]\n",
    "cent = np.zeros((k, X_train.shape[1]))"
   ]
  },
  {
   "cell_type": "code",
   "execution_count": 7,
   "metadata": {
    "collapsed": true
   },
   "outputs": [],
   "source": [
    "def closest_centroid(X, cent, k):\n",
    "    min_dist = 100000000\n",
    "    closest = 0\n",
    "    for i in range(k):\n",
    "        dist = X - cent[i]\n",
    "        dist = np.array(dist)\n",
    "        dist = np.sum(dist**2)\n",
    "        if dist < min_dist:\n",
    "            min_dist = dist\n",
    "            closest = i\n",
    "    return closest"
   ]
  },
  {
   "cell_type": "code",
   "execution_count": 17,
   "metadata": {
    "collapsed": false
   },
   "outputs": [],
   "source": [
    "def kmeans(X):\n",
    "    cent = np.zeros((k, X.shape[1]))\n",
    "    c = np.zeros(rows)\n",
    "    for i in range(k):\n",
    "        r = int(np.random.rand()*rows)\n",
    "        cent[i] = X[r]\n",
    "    #print cent\n",
    "    for iter in range(100):\n",
    "        for i in range(rows):\n",
    "            c[i] = closest_centroid(X[i, :], cent, k)\n",
    "            #print c[i]\n",
    "        cluster0 = X[np.where(c == 0)[0],:]\n",
    "        cluster1 = X[np.where(c == 1)[0],:]\n",
    "        for j in range(cols):\n",
    "            cent[0, j] = np.mean(cluster0[:,j])\n",
    "        for j in range(cols):\n",
    "            cent[1, j] = np.mean(cluster1[:,j])\n",
    "    return c, cent, cluster0, cluster1"
   ]
  },
  {
   "cell_type": "code",
   "execution_count": 18,
   "metadata": {
    "collapsed": false
   },
   "outputs": [],
   "source": [
    "y_pred, cent, clus0, clus1 = kmeans(X_train)"
   ]
  },
  {
   "cell_type": "code",
   "execution_count": 19,
   "metadata": {
    "collapsed": false
   },
   "outputs": [],
   "source": [
    "row = X_test.shape[0]\n",
    "y_pred = np.zeros(row)\n",
    "def predictKmeans(X, cent, k):\n",
    "    for i in range(row):\n",
    "        y_pred[i] = closest_centroid(X[i, :], cent, k)\n",
    "    return y_pred"
   ]
  },
  {
   "cell_type": "code",
   "execution_count": 20,
   "metadata": {
    "collapsed": false
   },
   "outputs": [],
   "source": [
    "y_pred = predictKmeans(X_test, cent, k)"
   ]
  },
  {
   "cell_type": "code",
   "execution_count": 21,
   "metadata": {
    "collapsed": false
   },
   "outputs": [],
   "source": [
    "y_pred = np.zeros(X_test.shape[0])\n",
    "count = 0\n",
    "prec = np.zeros(10)\n",
    "recal = np.zeros(10)\n",
    "f1 = np.zeros(10)\n",
    "acc = np.zeros(10)\n",
    "auc =  np.zeros(10)\n",
    "from sklearn import metrics\n",
    "from sklearn.metrics import accuracy_score, f1_score, precision_score, recall_score, classification_report\n",
    "for l in range(10):\n",
    "    X_train, X_test, y_train, y_test = train_test_split(X, y, test_size = 0.5)\n",
    "    y_pred, cent, clus0, clus1 = kmeans(X_train)\n",
    "    y_pred = predictKmeans(X_test, cent, k)\n",
    "    prec[l] = precision_score(y_test, y_pred, average=\"weighted\")\n",
    "    recal[l] = recall_score(y_test, y_pred, average=\"weighted\")\n",
    "    f1[l] = f1_score(y_test, y_pred, average=\"weighted\")\n",
    "    acc[l] = accuracy_score(y_test, y_pred)\n",
    "    fpr, tpr, thresholds = metrics.roc_curve(y_test, y_pred) \n",
    "    auc[l] = metrics.auc(fpr, tpr)"
   ]
  },
  {
   "cell_type": "code",
   "execution_count": 22,
   "metadata": {
    "collapsed": false
   },
   "outputs": [
    {
     "data": {
      "text/plain": [
       "(0.45674565932330502,\n",
       " 0.4361083249749248,\n",
       " 0.43849826820782445,\n",
       " 0.4361083249749248,\n",
       " 0.44152450393332482)"
      ]
     },
     "execution_count": 22,
     "metadata": {},
     "output_type": "execute_result"
    }
   ],
   "source": [
    "np.mean(prec), np.mean(recal), np.mean(f1), np.mean(acc), np.mean(auc)"
   ]
  },
  {
   "cell_type": "code",
   "execution_count": null,
   "metadata": {
    "collapsed": true
   },
   "outputs": [],
   "source": []
  }
 ],
 "metadata": {
  "kernelspec": {
   "display_name": "Python 2",
   "language": "python",
   "name": "python2"
  },
  "language_info": {
   "codemirror_mode": {
    "name": "ipython",
    "version": 2
   },
   "file_extension": ".py",
   "mimetype": "text/x-python",
   "name": "python",
   "nbconvert_exporter": "python",
   "pygments_lexer": "ipython2",
   "version": "2.7.13"
  }
 },
 "nbformat": 4,
 "nbformat_minor": 2
}
