{
 "cells": [
  {
   "cell_type": "code",
   "execution_count": 54,
   "metadata": {
    "collapsed": true
   },
   "outputs": [],
   "source": [
    "import numpy as np\n",
    "import pandas as pd\n",
    "import matplotlib.pyplot as plt\n",
    "%matplotlib inline\n",
    "import scipy.optimize as opt\n",
    "from sklearn.model_selection import train_test_split\n",
    "import random as rnd"
   ]
  },
  {
   "cell_type": "code",
   "execution_count": 55,
   "metadata": {
    "collapsed": false
   },
   "outputs": [
    {
     "data": {
      "text/plain": [
       "(1994, 121)"
      ]
     },
     "execution_count": 55,
     "metadata": {},
     "output_type": "execute_result"
    }
   ],
   "source": [
    "data = pd.read_excel(\"C:/Users/Niku/Documents/Semester8/DataFiles/datasetnorm1.xlsx\")\n",
    "data.shape"
   ]
  },
  {
   "cell_type": "code",
   "execution_count": 56,
   "metadata": {
    "collapsed": true
   },
   "outputs": [],
   "source": [
    "def kl(x1, x2):\n",
    "    temp =  np.dot(x1, x2.T)\n",
    "    return temp"
   ]
  },
  {
   "cell_type": "code",
   "execution_count": 57,
   "metadata": {
    "collapsed": false
   },
   "outputs": [],
   "source": [
    "def kq(x1, x2):\n",
    "    temp = np.dot(x1, x2.T)\n",
    "    temp = temp ** 2\n",
    "    return temp"
   ]
  },
  {
   "cell_type": "code",
   "execution_count": 58,
   "metadata": {
    "collapsed": true
   },
   "outputs": [],
   "source": [
    "def test(X):\n",
    "    temp = np.dot(w.T, X.T)\n",
    "    return np.sign(temp + b)"
   ]
  },
  {
   "cell_type": "code",
   "execution_count": 59,
   "metadata": {
    "collapsed": true
   },
   "outputs": [],
   "source": [
    "def findb(X, y, w):\n",
    "    temp = y - np.dot(w.T, X.T)\n",
    "    return np.mean(temp)"
   ]
  },
  {
   "cell_type": "code",
   "execution_count": 60,
   "metadata": {
    "collapsed": false
   },
   "outputs": [],
   "source": [
    "def findw(alpha, y, X):\n",
    "    return np.dot(alpha * y, X)"
   ]
  },
  {
   "cell_type": "code",
   "execution_count": 61,
   "metadata": {
    "collapsed": true
   },
   "outputs": [],
   "source": [
    "def findL(a1, a2, C, y1, y2):\n",
    "    if y1 == y2:\n",
    "        L = max(0, a2 + a1 - C)\n",
    "    else:\n",
    "        L = max(0, a2 - a1)\n",
    "    return L"
   ]
  },
  {
   "cell_type": "code",
   "execution_count": 62,
   "metadata": {
    "collapsed": true
   },
   "outputs": [],
   "source": [
    "def findH(a1, a2, C, y1, y2):\n",
    "    if y1 == y2:\n",
    "        H = min(C, a2 + a1)\n",
    "    else:\n",
    "        H = min(C, C + a2 - a1)\n",
    "    return H"
   ]
  },
  {
   "cell_type": "code",
   "execution_count": 63,
   "metadata": {
    "collapsed": true
   },
   "outputs": [],
   "source": [
    "max_iter=10000\n",
    "kernel ='quadratic'\n",
    "C = 1.0\n",
    "epsilon=0.001"
   ]
  },
  {
   "cell_type": "code",
   "execution_count": 64,
   "metadata": {
    "collapsed": false
   },
   "outputs": [],
   "source": [
    "def train(X, y, epsilon, C, max_iter, kernel):\n",
    "    m, n = X.shape[0], X.shape[1]\n",
    "    alpha = np.zeros((m))\n",
    "    iterations = 0\n",
    "    while iterations < max_iter:\n",
    "        iterations += 1\n",
    "        alpha_prev = np.copy(alpha)\n",
    "        for i in range(0, m):\n",
    "            j = i\n",
    "            while j == i:\n",
    "                j = rnd.randint(0,m-1)\n",
    "            x1 = X[i, :]\n",
    "            x2 = X[j, :]\n",
    "            y1 = y[i]\n",
    "            y2 = y[j]\n",
    "            a1 = alpha[i]\n",
    "            a2 = alpha[j]\n",
    "            \n",
    "            if kernel == 'quadratic':\n",
    "                k = kq(x1, x1) + kq(x2, x2) - 2 * kq(x1, x2)\n",
    "            else:\n",
    "                k = kl(x1, x1) + kl(x2, x2) - 2 * kl(x1, x2)\n",
    "            \n",
    "            w = np.dot(alpha * y, X)\n",
    "            temp = y - np.dot(w.T, X.T)\n",
    "            b = np.mean(temp)\n",
    "            \n",
    "            temp1 = np.dot(w.T, x1.T)\n",
    "            temp1 = temp1 + b\n",
    "            E1 = np.sign(temp1) - y1\n",
    "            \n",
    "            temp2 = np.dot(w.T, x2.T)\n",
    "            temp2 = temp2 + b\n",
    "            E2 = np.sign(temp2) - y2\n",
    "            \n",
    "            L = findL(a1, a2, C, y1, y2)\n",
    "            H = findH(a1, a2, C, y1, y2)\n",
    "            \n",
    "            alpha[j] = a2 + float(y2 * (E1 - E2))/k\n",
    "            \n",
    "            if alpha[j] >= H:\n",
    "                alpha[j] = H\n",
    "            if alpha[j] <= L:\n",
    "                alpha[j] = L\n",
    "\n",
    "            alpha[i] = a1 + y1*y2 * (a2 - alpha[j])\n",
    "            \n",
    "            alphadiff = alpha - alpha_prev\n",
    "            diff = np.linalg.norm(alphadiff)\n",
    "            if diff < epsilon:\n",
    "                break\n",
    "\n",
    "    return b, w"
   ]
  },
  {
   "cell_type": "code",
   "execution_count": 65,
   "metadata": {
    "collapsed": false
   },
   "outputs": [],
   "source": [
    "rows = data.shape[0]\n",
    "cols = data.shape[1]\n",
    "y = data.iloc[:, cols-1]\n",
    "X = data.iloc[:, 1:cols-1]\n",
    "X = np.array(X)\n",
    "y = np.array(y)\n",
    "y[y == 0] = -1"
   ]
  },
  {
   "cell_type": "code",
   "execution_count": 71,
   "metadata": {
    "collapsed": false
   },
   "outputs": [
    {
     "name": "stdout",
     "output_type": "stream",
     "text": [
      "0.01 0.1 1000\n",
      "0.01 0.1 1000\n",
      "0.8729629321 0.873119358074 0.872440685267 0.873119358074 0.864178628699\n",
      "0.01 0.1 10000\n",
      "0.01 0.1 10000\n",
      "0.873614246236 0.873620862588 0.873090602366 0.873620862588 0.865614589805\n",
      "0.01 1.0 1000\n",
      "0.01 1.0 1000\n",
      "0.916833611773 0.916248746239 0.915756480249 0.916248746239 0.908840925721\n",
      "0.01 1.0 10000\n",
      "0.01 1.0 10000\n",
      "0.9186512215 0.916750250752 0.91596874205 0.916750250752 0.906987859331\n",
      "0.001 0.1 1000\n",
      "0.001 0.1 1000\n",
      "0.875509520701 0.875626880642 0.875341661441 0.875626880642 0.870292636642\n",
      "0.001 0.1 10000\n",
      "0.001 0.1 10000\n",
      "0.873120785912 0.873119358074 0.8724621571 0.873119358074 0.862680565172\n",
      "0.001 1.0 1000\n",
      "0.001 1.0 1000\n",
      "0.92482020339 0.923269809428 0.922670141677 0.923269809428 0.914909398435\n",
      "0.001 1.0 10000\n",
      "0.001 1.0 10000\n",
      "0.91660586398 0.915245737212 0.914584363288 0.915245737212 0.906423740768\n"
     ]
    }
   ],
   "source": [
    "totalacc = 0.0\n",
    "max_iter=[1000, 10000]\n",
    "kernel ='quadratic'\n",
    "C = [0.1, 1.0]\n",
    "epsilon=[0.01, 0.001]\n",
    "from sklearn.metrics import accuracy_score, f1_score, precision_score, recall_score, classification_report\n",
    "from sklearn import metrics\n",
    "count = 0\n",
    "prec = np.zeros((8,2))\n",
    "recal = np.zeros((8,2))\n",
    "f1 = np.zeros((8,2))\n",
    "acc = np.zeros((8,2))\n",
    "auc =  np.zeros((8,2))\n",
    "for i in range(2):\n",
    "    for j in range(2):\n",
    "        for k in range(2):\n",
    "            e = epsilon[i]\n",
    "            C_ = C[j]\n",
    "            miter = max_iter[k]\n",
    "            totalacc = 0\n",
    "            for l in range(2):\n",
    "                print e, C_, miter\n",
    "                X_train, X_test, y_train, y_test = train_test_split(X, y, test_size = 0.5)\n",
    "                X_train.shape, y_train.shape\n",
    "                [b, w] = train(X_train, y_train, e, C_, miter, kernel)\n",
    "                y_pred = test(X_test)\n",
    "                from sklearn.metrics import classification_report\n",
    "                #print(classification_report(y_test, y_pred))\n",
    "                prec[count, l] = precision_score(y_test, y_pred, average=\"weighted\")\n",
    "                recal[count, l] = recall_score(y_test, y_pred, average=\"weighted\")\n",
    "                f1[count, l] = f1_score(y_test, y_pred, average=\"weighted\")\n",
    "                acc[count, l] = accuracy_score(y_test, y_pred)\n",
    "                fpr, tpr, thresholds = metrics.roc_curve(y_test, y_pred) \n",
    "                auc[count, l] = metrics.auc(fpr, tpr)\n",
    "                #print 'accuracy = {0}%'.format(accuracy * 100)\n",
    "            print (prec[count, 0]+prec[count,1])*1.0/2, (recal[count, 0]+recal[count,1])*1.0/2, (f1[count, 0]+f1[count,1])*1.0/2, (acc[count, 0]+acc[count,1])*1.0/2,(auc[count, 0]+auc[count,1])*1.0/2 \n",
    "            count += 1     "
   ]
  },
  {
   "cell_type": "code",
   "execution_count": 68,
   "metadata": {
    "collapsed": false
   },
   "outputs": [
    {
     "name": "stdout",
     "output_type": "stream",
     "text": [
      "             precision    recall  f1-score   support\n",
      "\n",
      "         -1       0.92      0.95      0.94       598\n",
      "          1       0.93      0.88      0.90       399\n",
      "\n",
      "avg / total       0.92      0.92      0.92       997\n",
      "\n"
     ]
    }
   ],
   "source": [
    "from sklearn.metrics import classification_report\n",
    "print(classification_report(y_test, y_pred))"
   ]
  },
  {
   "cell_type": "code",
   "execution_count": null,
   "metadata": {
    "collapsed": false
   },
   "outputs": [],
   "source": []
  },
  {
   "cell_type": "code",
   "execution_count": null,
   "metadata": {
    "collapsed": true
   },
   "outputs": [],
   "source": []
  }
 ],
 "metadata": {
  "kernelspec": {
   "display_name": "Python 2",
   "language": "python",
   "name": "python2"
  },
  "language_info": {
   "codemirror_mode": {
    "name": "ipython",
    "version": 2
   },
   "file_extension": ".py",
   "mimetype": "text/x-python",
   "name": "python",
   "nbconvert_exporter": "python",
   "pygments_lexer": "ipython2",
   "version": "2.7.13"
  }
 },
 "nbformat": 4,
 "nbformat_minor": 2
}
