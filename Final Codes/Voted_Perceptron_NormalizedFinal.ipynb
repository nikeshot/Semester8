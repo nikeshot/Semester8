{
 "cells": [
  {
   "cell_type": "code",
   "execution_count": 2,
   "metadata": {
    "collapsed": false
   },
   "outputs": [],
   "source": [
    "import numpy as np\n",
    "import pandas as pd\n",
    "import matplotlib.pyplot as plt\n",
    "%matplotlib inline\n",
    "import scipy.optimize as opt\n",
    "from sklearn.model_selection import train_test_split"
   ]
  },
  {
   "cell_type": "code",
   "execution_count": 3,
   "metadata": {
    "collapsed": false
   },
   "outputs": [
    {
     "data": {
      "text/plain": [
       "(1994, 36)"
      ]
     },
     "execution_count": 3,
     "metadata": {},
     "output_type": "execute_result"
    }
   ],
   "source": [
    "data = pd.read_excel(\"C:/Users/Niku/Documents/Semester8/DataFiles/datasetnorm1.xlsx\")\n",
    "data = pd.read_excel(\"C:/Users/Niku/Documents/Semester8/DataFiles/dataset2.xlsx\")"
   ]
  },
  {
   "cell_type": "code",
   "execution_count": 4,
   "metadata": {
    "collapsed": false
   },
   "outputs": [],
   "source": [
    "Normdata = data\n",
    "Normdata = np.matrix(Normdata)\n",
    "for i in range(1, Normdata.shape[1]):\n",
    "    cur = Normdata[:, i]\n",
    "    mx = max(cur)*1.0\n",
    "    mn = min(cur)*1.0\n",
    "    for j in range(0, len(cur)):\n",
    "        cur[j] = (cur[j] - mn)/(mx - mn)\n",
    "    Normdata[:, i] = cur\n",
    "\n",
    "cols = Normdata.shape[1]\n",
    "\n",
    "X = Normdata[:,1:cols-1]\n",
    "y = Normdata[:,cols-1:cols]"
   ]
  },
  {
   "cell_type": "code",
   "execution_count": 5,
   "metadata": {
    "collapsed": false
   },
   "outputs": [
    {
     "data": {
      "text/plain": [
       "(1994L, 34L)"
      ]
     },
     "execution_count": 5,
     "metadata": {},
     "output_type": "execute_result"
    }
   ],
   "source": [
    "X = np.matrix(X)\n",
    "y = np.matrix(y)"
   ]
  },
  {
   "cell_type": "code",
   "execution_count": 7,
   "metadata": {
    "collapsed": false
   },
   "outputs": [],
   "source": [
    "for i in range(len(y)):\n",
    "    if y[i] == 0:\n",
    "        y[i] = -1"
   ]
  },
  {
   "cell_type": "code",
   "execution_count": 9,
   "metadata": {
    "collapsed": true
   },
   "outputs": [],
   "source": [
    "def initialiseLMC():\n",
    "    c = np.zeros(100000)\n",
    "    V = np.zeros((100000, X_train.shape[1]-1))\n",
    "    V = np.insert(V, 0, values=np.ones(V.shape[0]), axis=1)\n",
    "    k = 0\n",
    "    return V, c, k"
   ]
  },
  {
   "cell_type": "code",
   "execution_count": 10,
   "metadata": {
    "collapsed": false,
    "scrolled": true
   },
   "outputs": [],
   "source": [
    "def trainLMC(X_train, y_train, V, c, t, m, k):\n",
    "    #print 'Training Started'\n",
    "    m = X_train.shape[0]\n",
    "    n = X_train.shape[1]\n",
    "    c = np.zeros(100000)\n",
    "    #V = np.zeros((996, n))\n",
    "    #V = np.insert(V, 0, values=np.ones(V.shape[0]), axis=1)\n",
    "    for e in range(t):\n",
    "        #print e\n",
    "        for i in range(0, m-1):\n",
    "            y_pred = np.sign(np.dot(X_train[i], V[k].T))\n",
    "            if y_pred == y_train[i]:\n",
    "                c[k+1] = c[k] + 1\n",
    "            else:\n",
    "                d = np.asscalar(y_train[i])\n",
    "                p = V[k] + (d*X_train[i]).T\n",
    "                V[k+1] = V[k] + (d*X_train[i])\n",
    "                c[k+1] = 1\n",
    "                k = k + 1\n",
    "    #print 'Done training' \n",
    "    #print k\n",
    "    return V, c, k"
   ]
  },
  {
   "cell_type": "code",
   "execution_count": 11,
   "metadata": {
    "collapsed": false,
    "scrolled": true
   },
   "outputs": [],
   "source": [
    "def predictLMC(X_test, V, c, k):\n",
    "    y_LMC = np.zeros(X_test.shape[0])\n",
    "    a = np.zeros(k)\n",
    "    for j in range(0, X_test.shape[0]):\n",
    "        for i in range(0, k):\n",
    "            a[i] = c[i] * np.sign(np.dot(X_test[j], V[i].T))\n",
    "            s = np.sum(a)\n",
    "            y_LMC[j] = np.sign(s)\n",
    "    #print 'Test Data Created'\n",
    "    return y_LMC"
   ]
  },
  {
   "cell_type": "code",
   "execution_count": 12,
   "metadata": {
    "collapsed": false
   },
   "outputs": [
    {
     "name": "stdout",
     "output_type": "stream",
     "text": [
      "1\n",
      "1 272.0 0.838504507798 0.83851554664 0.838420190152 0.83851554664 0.833111088325\n",
      "2\n",
      "2 495.5 0.840536898472 0.841023069208 0.840684313484 0.841023069208 0.832810664203\n",
      "3\n",
      "3 741.5 0.839056965233 0.839017051153 0.838469272965 0.839017051153 0.831551850795\n",
      "4\n",
      "4 989.0 0.839212363633 0.839518555667 0.838948989434 0.839518555667 0.83137655649\n",
      "5\n",
      "5 1135.0 0.832838217124 0.832998996991 0.831785304088 0.832998996991 0.821727359854\n",
      "10\n",
      "10 2171.5 0.836328974562 0.836008024072 0.835850200236 0.836008024072 0.831461394614\n",
      "15\n",
      "15 3412.0 0.828497075376 0.828986960883 0.828493182909 0.828986960883 0.820930336143\n",
      "20\n",
      "20 4651.5 0.844750944912 0.844533600802 0.844406745052 0.844533600802 0.839822334682\n",
      "25\n",
      "25 5366.5 0.8334305067 0.833500501505 0.833126062172 0.833500501505 0.825884301561\n",
      "50\n",
      "50 11085.5 0.839881487771 0.83851554664 0.838932012941 0.83851554664 0.83669910074\n",
      "75\n",
      "75 16591.0 0.833658554114 0.834002006018 0.833772347891 0.834002006018 0.828292367107\n",
      "100\n",
      "100 22578.0 0.844511614716 0.844032096289 0.843836315868 0.844032096289 0.840483746802\n"
     ]
    }
   ],
   "source": [
    "epoch = [1, 2, 3, 4, 5, 10, 15, 20, 25, 50, 75, 100]\n",
    "count = 0\n",
    "prec = np.zeros((12,2))\n",
    "recal = np.zeros((12,2))\n",
    "f1 = np.zeros((12,2))\n",
    "acc = np.zeros((12,2))\n",
    "auc =  np.zeros((12,2))\n",
    "K = np.zeros((12,2))\n",
    "from sklearn.metrics import accuracy_score, f1_score, precision_score, recall_score, classification_report\n",
    "from sklearn import metrics\n",
    "for i in range(0,12):\n",
    "    t = epoch[i]\n",
    "    print t\n",
    "    for l in range(0,2):\n",
    "        X_train, X_test, y_train, y_test = train_test_split(X, y, test_size = 0.5)\n",
    "        X_train = np.insert(X_train, 0, values=np.ones(X_train.shape[0]), axis=1)\n",
    "        X_test = np.insert(X_test, 0, values=np.ones(X_test.shape[0]), axis=1)\n",
    "        V, c, k= initialiseLMC()\n",
    "        V, c, k = trainLMC(X_train, y_train, V, c, t, X_train.shape[0], k)\n",
    "        K[count, l] = k\n",
    "        y_LMC = predictLMC(X_test, V, c, k)\n",
    "        y_LMC[y_LMC == 0] = 1\n",
    "        y_pred = y_LMC\n",
    "        prec[count, l] = precision_score(y_test, y_pred, average=\"weighted\")\n",
    "        recal[count, l] = recall_score(y_test, y_pred, average=\"weighted\")\n",
    "        f1[count, l] = f1_score(y_test, y_pred, average=\"weighted\")\n",
    "        acc[count, l] = accuracy_score(y_test, y_pred)\n",
    "        fpr, tpr, thresholds = metrics.roc_curve(y_test, y_pred) \n",
    "        auc[count, l] = metrics.auc(fpr, tpr)\n",
    "        #print t, count , l, acc[count, l], k\n",
    "    print t, (K[count, 0]+K[count,1])*1.0/2, (prec[count, 0]+prec[count,1])*1.0/2, (recal[count, 0]+recal[count,1])*1.0/2, (f1[count, 0]+f1[count,1])*1.0/2, (acc[count, 0]+acc[count,1])*1.0/2,(auc[count, 0]+auc[count,1])*1.0/2\n",
    "    count += 1"
   ]
  },
  {
   "cell_type": "code",
   "execution_count": null,
   "metadata": {
    "collapsed": true
   },
   "outputs": [],
   "source": []
  }
 ],
 "metadata": {
  "kernelspec": {
   "display_name": "Python 2",
   "language": "python",
   "name": "python2"
  },
  "language_info": {
   "codemirror_mode": {
    "name": "ipython",
    "version": 2
   },
   "file_extension": ".py",
   "mimetype": "text/x-python",
   "name": "python",
   "nbconvert_exporter": "python",
   "pygments_lexer": "ipython2",
   "version": "2.7.13"
  }
 },
 "nbformat": 4,
 "nbformat_minor": 2
}
