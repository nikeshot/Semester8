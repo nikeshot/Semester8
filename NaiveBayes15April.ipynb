{
 "cells": [
  {
   "cell_type": "code",
   "execution_count": 460,
   "metadata": {
    "collapsed": true
   },
   "outputs": [],
   "source": [
    "import numpy as np\n",
    "import pandas as pd\n",
    "import matplotlib.pyplot as plt\n",
    "%matplotlib inline\n",
    "import scipy.optimize as opt\n",
    "from sklearn.model_selection import train_test_split"
   ]
  },
  {
   "cell_type": "code",
   "execution_count": 461,
   "metadata": {
    "collapsed": false
   },
   "outputs": [
    {
     "data": {
      "text/plain": [
       "(1992, 36)"
      ]
     },
     "execution_count": 461,
     "metadata": {},
     "output_type": "execute_result"
    }
   ],
   "source": [
    "data = pd.read_excel(\"C:/Users/Niku/Documents/dataset/arrays.xlsx\")\n",
    "data.shape"
   ]
  },
  {
   "cell_type": "code",
   "execution_count": 462,
   "metadata": {
    "collapsed": false
   },
   "outputs": [],
   "source": [
    "X_1 = data.loc[data['Category'] == 1]\n",
    "X_0 = data.loc[data['Category'] == 0]"
   ]
  },
  {
   "cell_type": "code",
   "execution_count": 463,
   "metadata": {
    "collapsed": false
   },
   "outputs": [],
   "source": [
    "X_1 = np.matrix(X_1)\n",
    "X_0 = np.matrix(X_0)\n",
    "X_1 = X_1[:, 0:35]\n",
    "X_0 = X_0[:, 0:35]"
   ]
  },
  {
   "cell_type": "code",
   "execution_count": 464,
   "metadata": {
    "collapsed": true
   },
   "outputs": [],
   "source": [
    "Normdata = np.matrix(data)\n",
    "cols = Normdata.shape[1]\n",
    "X = Normdata[:,0:cols-1]\n",
    "y = Normdata[:,cols-1:cols]"
   ]
  },
  {
   "cell_type": "code",
   "execution_count": 465,
   "metadata": {
    "collapsed": true
   },
   "outputs": [],
   "source": [
    "X = np.matrix(X)\n",
    "y = np.matrix(y)"
   ]
  },
  {
   "cell_type": "code",
   "execution_count": 466,
   "metadata": {
    "collapsed": false
   },
   "outputs": [
    {
     "data": {
      "text/plain": [
       "((996L, 35L), (996L, 1L))"
      ]
     },
     "execution_count": 466,
     "metadata": {},
     "output_type": "execute_result"
    }
   ],
   "source": [
    "X_train, X_test, y_train, y_test = train_test_split(X, y, test_size = 0.5, random_state=1)\n",
    "X_train.shape, y_train.shape"
   ]
  },
  {
   "cell_type": "code",
   "execution_count": 467,
   "metadata": {
    "collapsed": false,
    "scrolled": true
   },
   "outputs": [
    {
     "name": "stdout",
     "output_type": "stream",
     "text": [
      "1992\n",
      "35\n",
      "0.18875502008\n",
      "0.81124497992\n"
     ]
    }
   ],
   "source": [
    "rows = X.shape[0]\n",
    "cols = X.shape[1]\n",
    "pC = np.sum(y)/len(y)\n",
    "pNC = 1 - pC\n",
    "print rows\n",
    "print cols\n",
    "print pC\n",
    "print pNC"
   ]
  },
  {
   "cell_type": "code",
   "execution_count": 468,
   "metadata": {
    "collapsed": false
   },
   "outputs": [
    {
     "name": "stdout",
     "output_type": "stream",
     "text": [
      "(376L, 35L)\n",
      "(1992L, 35L)\n",
      "(2L, 35L)\n"
     ]
    }
   ],
   "source": [
    "X_1 = np.matrix(X_1)\n",
    "X_0 = np.matrix(X_0)\n",
    "mean = np.zeros((2,cols))\n",
    "std = np.zeros((2,cols))\n",
    "print X_1.shape\n",
    "print X.shape\n",
    "print mean.shape"
   ]
  },
  {
   "cell_type": "code",
   "execution_count": 486,
   "metadata": {
    "collapsed": false
   },
   "outputs": [],
   "source": [
    "def calc(cat, X):\n",
    "    cols = X.shape[1]\n",
    "    for i in range(0, cols):\n",
    "        #print i\n",
    "        cur = np.array(X[:,i])\n",
    "        mean[cat,i] = np.mean(cur)\n",
    "        std[cat,i] = np.std(cur)\n",
    "        #print mean[cat,i], std[cat,i]"
   ]
  },
  {
   "cell_type": "code",
   "execution_count": 487,
   "metadata": {
    "collapsed": false,
    "scrolled": true
   },
   "outputs": [],
   "source": [
    "calc(0, X_0)\n",
    "calc(1, X_1)"
   ]
  },
  {
   "cell_type": "code",
   "execution_count": 488,
   "metadata": {
    "collapsed": false
   },
   "outputs": [
    {
     "data": {
      "text/plain": [
       "0.050305544773141031"
      ]
     },
     "execution_count": 488,
     "metadata": {},
     "output_type": "execute_result"
    }
   ],
   "source": [
    "mean[0,34]"
   ]
  },
  {
   "cell_type": "code",
   "execution_count": 489,
   "metadata": {
    "collapsed": false
   },
   "outputs": [],
   "source": [
    "def gauss(val, meanx, stdx):\n",
    "    temp1 = 1/np.sqrt(2*3.1415*(stdx**2))\n",
    "    temp2 = -(val-meanx)**2\n",
    "    temp3 = 2*(stdx**2)\n",
    "    temp4 = np.exp(temp2/temp3)*temp1\n",
    "    return temp4"
   ]
  },
  {
   "cell_type": "code",
   "execution_count": 490,
   "metadata": {
    "collapsed": false
   },
   "outputs": [],
   "source": [
    "def predict0(ex):\n",
    "    prob = pNC\n",
    "    p = 1.0\n",
    "    for i in range(0, cols):\n",
    "        p = gauss(ex[0,i], mean[0,i], std[0,i])\n",
    "        prob = prob * p\n",
    "        #print prob\n",
    "    return prob"
   ]
  },
  {
   "cell_type": "code",
   "execution_count": 491,
   "metadata": {
    "collapsed": false
   },
   "outputs": [],
   "source": [
    "def predict1(ex):\n",
    "    prob = pC\n",
    "    p = 1.0\n",
    "    for i in range(0, cols):\n",
    "        p = gauss(ex[0,i], mean[1,i], std[1,i])\n",
    "        prob = prob * p\n",
    "        #print prob\n",
    "    return prob"
   ]
  },
  {
   "cell_type": "code",
   "execution_count": 495,
   "metadata": {
    "collapsed": false,
    "scrolled": false
   },
   "outputs": [
    {
     "data": {
      "text/plain": [
       "4.6604643103378524e+18"
      ]
     },
     "execution_count": 495,
     "metadata": {},
     "output_type": "execute_result"
    }
   ],
   "source": [
    "predict0(X[8])"
   ]
  },
  {
   "cell_type": "code",
   "execution_count": 494,
   "metadata": {
    "collapsed": false
   },
   "outputs": [
    {
     "data": {
      "text/plain": [
       "5093199231033564.0"
      ]
     },
     "execution_count": 494,
     "metadata": {},
     "output_type": "execute_result"
    }
   ],
   "source": [
    "predict1(X[8])"
   ]
  },
  {
   "cell_type": "code",
   "execution_count": 477,
   "metadata": {
    "collapsed": false
   },
   "outputs": [
    {
     "data": {
      "text/plain": [
       "matrix([[  2.55434783e-01,   1.30650667e-01,   8.30737494e-01,\n",
       "           1.28852516e-02,   4.48670800e-02,   2.23805701e-01,\n",
       "           3.13921152e-01,   1.78365548e-01,   2.46527098e-01,\n",
       "           1.00000000e+00,   1.17689582e-01,   6.50446566e-01,\n",
       "           3.89354568e-01,   2.46782740e-01,   2.79191439e-01,\n",
       "           1.32472229e-01,   3.10709838e-01,   1.78506742e-01,\n",
       "           3.18150063e-01,   2.44444444e-01,   2.60772990e-01,\n",
       "           5.50375940e-01,   6.57248157e-01,   5.89471969e-01,\n",
       "           1.02108309e-01,   9.55510072e-01,   2.11322724e-02,\n",
       "           5.65275908e-02,   5.15345912e-01,   3.33897588e-01,\n",
       "           2.32385661e-01,   4.27661121e-05,   0.00000000e+00,\n",
       "           1.82293492e-02,   0.00000000e+00]])"
      ]
     },
     "execution_count": 477,
     "metadata": {},
     "output_type": "execute_result"
    }
   ],
   "source": []
  },
  {
   "cell_type": "code",
   "execution_count": 478,
   "metadata": {
    "collapsed": false
   },
   "outputs": [
    {
     "data": {
      "text/plain": [
       "0.3009583140610545"
      ]
     },
     "execution_count": 478,
     "metadata": {},
     "output_type": "execute_result"
    }
   ],
   "source": [
    "np.mean(X_1[:,0])"
   ]
  },
  {
   "cell_type": "code",
   "execution_count": 479,
   "metadata": {
    "collapsed": false
   },
   "outputs": [
    {
     "data": {
      "text/plain": [
       "matrix([[ 0.4076087 ],\n",
       "        [ 0.33152174],\n",
       "        [ 0.22554348],\n",
       "        ..., \n",
       "        [ 0.23369565],\n",
       "        [ 0.35054348],\n",
       "        [ 0.27445652]])"
      ]
     },
     "execution_count": 479,
     "metadata": {},
     "output_type": "execute_result"
    }
   ],
   "source": [
    "X_0[:,0]"
   ]
  },
  {
   "cell_type": "code",
   "execution_count": null,
   "metadata": {
    "collapsed": true
   },
   "outputs": [],
   "source": []
  }
 ],
 "metadata": {
  "kernelspec": {
   "display_name": "Python 2",
   "language": "python",
   "name": "python2"
  },
  "language_info": {
   "codemirror_mode": {
    "name": "ipython",
    "version": 2
   },
   "file_extension": ".py",
   "mimetype": "text/x-python",
   "name": "python",
   "nbconvert_exporter": "python",
   "pygments_lexer": "ipython2",
   "version": "2.7.13"
  }
 },
 "nbformat": 4,
 "nbformat_minor": 2
}
