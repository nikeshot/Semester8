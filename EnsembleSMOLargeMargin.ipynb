{
 "cells": [
  {
   "cell_type": "code",
   "execution_count": 281,
   "metadata": {
    "collapsed": true
   },
   "outputs": [],
   "source": [
    "import numpy as np\n",
    "import pandas as pd\n",
    "import matplotlib.pyplot as plt\n",
    "%matplotlib inline\n",
    "import scipy.optimize as opt\n",
    "from sklearn.model_selection import train_test_split\n",
    "import random as rnd"
   ]
  },
  {
   "cell_type": "code",
   "execution_count": 282,
   "metadata": {
    "collapsed": false
   },
   "outputs": [
    {
     "data": {
      "text/plain": [
       "(1994, 121)"
      ]
     },
     "execution_count": 282,
     "metadata": {},
     "output_type": "execute_result"
    }
   ],
   "source": [
    "#data = pd.read_excel(\"C:/Users/Niku/Documents/dataset/arrays.xlsx\")\n",
    "data = pd.read_excel(\"C:/Users/Niku/Documents/Semester8/DataFiles/datasetnorm1.xlsx\")\n",
    "data.shape"
   ]
  },
  {
   "cell_type": "code",
   "execution_count": 283,
   "metadata": {
    "collapsed": true
   },
   "outputs": [],
   "source": [
    "def kernel_linear(x1, x2):\n",
    "    return np.dot(x1, x2.T)\n",
    "def kernel_quadratic(x1, x2):\n",
    "    return (np.dot(x1, x2.T) ** 2)\n",
    "def rnd_int(a,b,z):\n",
    "    i = z\n",
    "    while i == z:\n",
    "        i = rnd.randint(a,b)\n",
    "    return i\n",
    "def predictSMO(X):\n",
    "    return h(X, w, b)\n",
    "def calc_b(X, y, w):\n",
    "    b_tmp = y - np.dot(w.T, X.T)\n",
    "    return np.mean(b_tmp)\n",
    "def calc_w(alpha, y, X):\n",
    "    return np.dot(alpha * y, X)\n",
    "def h(X, w, b):\n",
    "    return np.sign(np.dot(w.T, X.T) + b).astype(int)\n",
    "def E(x_k, y_k, w, b):\n",
    "    return h(x_k, w, b) - y_k\n",
    "def compute_L_H(C, alpha_prime_j, alpha_prime_i, y_j, y_i):\n",
    "    if(y_i != y_j):\n",
    "        return (max(0, alpha_prime_j - alpha_prime_i), min(C, C - alpha_prime_i + alpha_prime_j))\n",
    "    else:\n",
    "        return (max(0, alpha_prime_i + alpha_prime_j - C), min(C, alpha_prime_i + alpha_prime_j))\n",
    "def trainSMO(X, y):\n",
    "    # Initialization\n",
    "    n, d = X.shape[0], X.shape[1]\n",
    "    alpha = np.zeros((n))\n",
    "    #alpha = np.array(alpha)\n",
    "    #print (alpha.shape)\n",
    "    count = 0\n",
    "    while True:\n",
    "        count += 1\n",
    "        alpha_prev = np.copy(alpha)\n",
    "        for j in range(0, n):\n",
    "            i = rnd_int(0, n-1, j) # Get random int i~=j\n",
    "            x_i, x_j, y_i, y_j = X[i,:], X[j,:], y[i], y[j]\n",
    "            if kernel == 'quadratic':\n",
    "                k_ij = kernel_quadratic(x_i, x_i) + kernel_quadratic(x_j, x_j) - 2 * kernel_quadratic(x_i, x_j)\n",
    "            else:\n",
    "                k_ij = kernel_linear(x_i, x_i) + kernel_linear(x_j, x_j) - 2 * kernel_linear(x_i, x_j)\n",
    "            if k_ij == 0:\n",
    "                continue\n",
    "            alpha_prime_j, alpha_prime_i = alpha[j], alpha[i]\n",
    "            (L, H) = compute_L_H(C, alpha_prime_j, alpha_prime_i, y_j, y_i)\n",
    "\n",
    "                # Compute model parameters\n",
    "            w = calc_w(alpha, y, X)\n",
    "            b = calc_b(X, y, w)\n",
    "            \n",
    "                # Compute E_i, E_j\n",
    "            E_i = E(x_i, y_i, w, b)\n",
    "            E_j = E(x_j, y_j, w, b)\n",
    "\n",
    "                # Set new alpha values\n",
    "            alpha[j] = alpha_prime_j + float(y_j * (E_i - E_j))/k_ij\n",
    "            alpha[j] = max(alpha[j], L)\n",
    "            alpha[j] = min(alpha[j], H)\n",
    "\n",
    "            alpha[i] = alpha_prime_i + y_i*y_j * (alpha_prime_j - alpha[j])\n",
    "\n",
    "            # Check convergence\n",
    "        diff = np.linalg.norm(alpha - alpha_prev)\n",
    "        if diff < epsilon:\n",
    "            break\n",
    "\n",
    "        if count >= max_iter:\n",
    "            print(\"Iteration number exceeded the max of %d iterations\" % (max_iter))\n",
    "            return\n",
    "        # Compute final model parameters\n",
    "    b = calc_b(X, y, w)\n",
    "    if kernel == 'linear':\n",
    "        w = calc_w(alpha, y, X)\n",
    "    # Get support vectors\n",
    "    alpha_idx = np.where(alpha > 0)[0]\n",
    "    support_vectors = X[alpha_idx, :]\n",
    "    return b, w"
   ]
  },
  {
   "cell_type": "code",
   "execution_count": 284,
   "metadata": {
    "collapsed": false
   },
   "outputs": [],
   "source": [
    "def initialiseLMC(X_train):\n",
    "    c = np.zeros(100000)\n",
    "    V = np.zeros((100000, X_train.shape[1]-1))\n",
    "    V = np.insert(V, 0, values=np.ones(V.shape[0]), axis=1)\n",
    "    epochs = 2\n",
    "    k = 0\n",
    "    return V, c, k, epochs\n",
    "\n",
    "def trainLMC(X_train, y_train, V, c, epochs, m, k):\n",
    "    m = X_train.shape[0]\n",
    "    n = X_train.shape[1]\n",
    "    c = np.zeros(100000)\n",
    "    #V = np.zeros((996, n))\n",
    "    #V = np.insert(V, 0, values=np.ones(V.shape[0]), axis=1)\n",
    "    for e in range(epochs):\n",
    "        print e\n",
    "        print V.shape\n",
    "        for i in range(0, m-1):\n",
    "            y_pred = np.sign(np.dot(X_train[i], V[k].T))\n",
    "            if y_pred == y_train[i]:\n",
    "                c[k+1] = c[k] + 1\n",
    "            else:\n",
    "                d = np.asscalar(y_train[i])\n",
    "                p = V[k] + (d*X_train[i]).T\n",
    "                V[k+1] = V[k] + (d*X_train[i])\n",
    "                c[k+1] = 1\n",
    "                k = k + 1\n",
    "    print 'Done training' \n",
    "    print k\n",
    "    return V, c, k\n",
    "\n",
    "def predictLMC(X_test, V, c, k):\n",
    "    y_LMC = np.zeros(X_test.shape[0])\n",
    "    a = np.zeros(k)\n",
    "    for j in range(0, X_test.shape[0]):\n",
    "        for i in range(0, k):\n",
    "            a[i] = c[i] * np.sign(np.dot(X_test[j], V[i].T))\n",
    "            s = np.sum(a)\n",
    "            y_LMC[j] = np.sign(s)\n",
    "    print 'Test Data Created'\n",
    "    return y_LMC"
   ]
  },
  {
   "cell_type": "code",
   "execution_count": 285,
   "metadata": {
    "collapsed": true
   },
   "outputs": [],
   "source": [
    "max_iter=10000\n",
    "kernel ='linear'\n",
    "C=1.0\n",
    "epsilon=0.001"
   ]
  },
  {
   "cell_type": "code",
   "execution_count": 286,
   "metadata": {
    "collapsed": true
   },
   "outputs": [],
   "source": [
    "Normdata = data\n",
    "Normdata = np.matrix(Normdata)\n",
    "for i in range(0, Normdata.shape[1]):\n",
    "    cur = Normdata[:, i]\n",
    "    mx = max(cur)*1.0\n",
    "    mn = min(cur)*1.0\n",
    "    for j in range(0, len(cur)):\n",
    "        cur[j] = (cur[j] - mn)/(mx - mn)\n",
    "    Normdata[:, i] = cur\n",
    "cols = Normdata.shape[1]\n",
    "X2 = Normdata[:,1:cols-1]\n",
    "y2 = Normdata[:,cols-1:cols]\n",
    "X2 = np.matrix(X2)\n",
    "y2 = np.matrix(y2)\n",
    "y2[y2 == 0] = -1"
   ]
  },
  {
   "cell_type": "code",
   "execution_count": 306,
   "metadata": {
    "collapsed": false
   },
   "outputs": [
    {
     "name": "stdout",
     "output_type": "stream",
     "text": [
      "(1994L, 119L)\n",
      "(1994L, 119L)\n"
     ]
    }
   ],
   "source": [
    "rows = data.shape[0]\n",
    "cols = data.shape[1]\n",
    "y1 = data.iloc[:, cols-1]\n",
    "X1 = data.iloc[:, 1:cols-1]\n",
    "X1 = np.array(X1)\n",
    "y1 = np.array(y1)\n",
    "\n",
    "print X1.shape\n",
    "print X2.shape\n",
    "y1[y1 == 0] = -1\n"
   ]
  },
  {
   "cell_type": "code",
   "execution_count": 307,
   "metadata": {
    "collapsed": false
   },
   "outputs": [],
   "source": [
    "X_train1, X_test1, y_train1, y_test1 = train_test_split(X1, y1, test_size = 0.5, random_state = 2)\n",
    "X_train2, X_test2, y_train2, y_test2 = train_test_split(X2, y2, test_size = 0.5, random_state = 2)"
   ]
  },
  {
   "cell_type": "code",
   "execution_count": 320,
   "metadata": {
    "collapsed": false
   },
   "outputs": [
    {
     "name": "stdout",
     "output_type": "stream",
     "text": [
      "[-1  1] [579 418]\n",
      "[-1  1] [594 403]\n",
      "accuracy = 86.6599799398%\n"
     ]
    }
   ],
   "source": [
    "[b, w] = fit(X_train1, y_train1)\n",
    "y_SMO = predict(X_test1)\n",
    "u1, c1 = np.unique(y_SMO, return_counts=True)\n",
    "print u1, c1\n",
    "u2, c2 = np.unique(np.array(y_test1), return_counts=True)\n",
    "print u2, c2\n",
    "correct = [1 if a == b else 0 for (a, b) in zip(y_SMO, y_test1)]\n",
    "accuracy = (sum(map(int, correct)) / float(len(correct)))\n",
    "print 'accuracy = {0}%'.format(accuracy * 100)"
   ]
  },
  {
   "cell_type": "code",
   "execution_count": 321,
   "metadata": {
    "collapsed": false
   },
   "outputs": [
    {
     "data": {
      "text/plain": [
       "((997L, 119L), (997L, 121L), (997L, 1L), (997L, 121L), (997L, 1L))"
      ]
     },
     "execution_count": 321,
     "metadata": {},
     "output_type": "execute_result"
    }
   ],
   "source": [
    "X_train2 = np.insert(X_train2, 0, values=np.ones(X_train2.shape[0]), axis=1)\n",
    "X_test2 = np.insert(X_test2, 0, values=np.ones(X_test2.shape[0]), axis=1)\n",
    "X_train1.shape, X_train2.shape, y_train2.shape, X_test2.shape, y_test2.shape"
   ]
  },
  {
   "cell_type": "code",
   "execution_count": 313,
   "metadata": {
    "collapsed": false
   },
   "outputs": [
    {
     "name": "stdout",
     "output_type": "stream",
     "text": [
      "0\n",
      "(100000L, 120L)\n",
      "1\n",
      "(100000L, 120L)\n",
      "Done training\n",
      "447\n",
      "Test Data Created\n",
      "accuracy = 86.1584754263%\n"
     ]
    }
   ],
   "source": [
    "V, c, k, epochs = initialiseLMC(X_train2)\n",
    "V, c, k = trainLMC(X_train2, y_train2, V, c, epochs, m, k)\n",
    "y_LMC = predictLMC(X_test2, V ,c, k)\n",
    "correct = [1 if a == b else 0 for (a, b) in zip(y_LMC, y_test2)]\n",
    "accuracy = (sum(map(int, correct)) / float(len(correct)))\n",
    "print 'accuracy = {0}%'.format(accuracy * 100)"
   ]
  },
  {
   "cell_type": "code",
   "execution_count": 322,
   "metadata": {
    "collapsed": false
   },
   "outputs": [
    {
     "name": "stdout",
     "output_type": "stream",
     "text": [
      "[-1.  0.  1.] [579   1 417]\n",
      "[-1.  1.] [594 403]\n",
      "[-1  1] [579 418]\n"
     ]
    }
   ],
   "source": [
    "u1, c1 = np.unique(y_LMC, return_counts=True)\n",
    "print u1, c1\n",
    "u2, c2 = np.unique(np.array(y_test2), return_counts=True)\n",
    "print u2, c2\n",
    "u3, c3 = np.unique(np.array(y_SMO), return_counts=True)\n",
    "print u3, c3"
   ]
  },
  {
   "cell_type": "code",
   "execution_count": 323,
   "metadata": {
    "collapsed": false
   },
   "outputs": [
    {
     "name": "stdout",
     "output_type": "stream",
     "text": [
      "accuracy = 96.890672016%\n"
     ]
    }
   ],
   "source": [
    "correct = [1 if a == b else 0 for (a, b) in zip(y_LMC, y_SMO)]\n",
    "accuracy = (sum(map(int, correct)) / float(len(correct)))\n",
    "print 'accuracy = {0}%'.format(accuracy * 100)"
   ]
  },
  {
   "cell_type": "code",
   "execution_count": 347,
   "metadata": {
    "collapsed": false
   },
   "outputs": [],
   "source": [
    "yy = np.zeros(len(y_test2))\n",
    "for i in range(0, len(y_test2)):\n",
    "    if y_LMC[i] + y_SMO[i] == 2:\n",
    "        yy[i] = 1\n",
    "    elif y_LMC[i] + y_SMO[i] == -2:\n",
    "        yy[i] = -1\n",
    "    else:\n",
    "        yy[i] = y_SMO[i]"
   ]
  },
  {
   "cell_type": "code",
   "execution_count": 348,
   "metadata": {
    "collapsed": false
   },
   "outputs": [
    {
     "name": "stdout",
     "output_type": "stream",
     "text": [
      "accuracy = 86.6599799398%\n"
     ]
    }
   ],
   "source": [
    "correct = [1 if a == b else 0 for (a, b) in zip(yy, y_test2)]\n",
    "accuracy = (sum(map(int, correct)) / float(len(correct)))\n",
    "print 'accuracy = {0}%'.format(accuracy * 100)"
   ]
  },
  {
   "cell_type": "code",
   "execution_count": null,
   "metadata": {
    "collapsed": true
   },
   "outputs": [],
   "source": []
  }
 ],
 "metadata": {
  "kernelspec": {
   "display_name": "Python 2",
   "language": "python",
   "name": "python2"
  },
  "language_info": {
   "codemirror_mode": {
    "name": "ipython",
    "version": 2
   },
   "file_extension": ".py",
   "mimetype": "text/x-python",
   "name": "python",
   "nbconvert_exporter": "python",
   "pygments_lexer": "ipython2",
   "version": "2.7.13"
  }
 },
 "nbformat": 4,
 "nbformat_minor": 2
}
