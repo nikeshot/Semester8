{
  "metadata": {
    "kernelspec": {
      "display_name": "Python 3",
      "language": "python",
      "name": "python3"
    },
    "language_info": {
      "codemirror_mode": {
        "name": "ipython",
        "version": 3
      },
      "file_extension": ".py",
      "mimetype": "text/x-python",
      "name": "python",
      "nbconvert_exporter": "python",
      "pygments_lexer": "ipython3",
      "version": "3.6.0"
    }
  },
  "nbformat": 4,
  "nbformat_minor": 0,
  "cells": [
    {
      "cell_type": "code",
      "source": "# Loading libraries\nimport pandas as pd\nimport numpy as np",
      "execution_count": null,
      "outputs": [],
      "metadata": {}
    },
    {
      "cell_type": "code",
      "source": "# Global constants and variables\nTRAIN_FILENAME = 'train.csv'\nTEST_FILENAME = 'test.csv'",
      "execution_count": null,
      "outputs": [],
      "metadata": {}
    },
    {
      "cell_type": "code",
      "source": "train = pd.read_csv('../input/'+TRAIN_FILENAME, parse_dates=['Dates'], index_col=False)\ntest = pd.read_csv('../input/'+TEST_FILENAME, parse_dates=['Dates'], index_col=False)",
      "execution_count": null,
      "outputs": [],
      "metadata": {}
    },
    {
      "cell_type": "code",
      "source": "train.info()",
      "execution_count": null,
      "outputs": [],
      "metadata": {}
    },
    {
      "cell_type": "code",
      "source": "train = train.drop(['Descript', 'Resolution', 'Address'], axis = 1)",
      "execution_count": null,
      "outputs": [],
      "metadata": {}
    },
    {
      "cell_type": "code",
      "source": "test = test.drop(['Address'], axis = 1)",
      "execution_count": null,
      "outputs": [],
      "metadata": {}
    },
    {
      "cell_type": "code",
      "source": "def feature_engineering(data):\n    data['Day'] = data['Dates'].dt.day\n    data['Month'] = data['Dates'].dt.month\n    data['Year'] = data['Dates'].dt.year\n    data['Hour'] = data['Dates'].dt.hour\n    data['Minute'] = data['Dates'].dt.minute\n    data['DayOfWeek'] = data['Dates'].dt.dayofweek\n    data['WeekOfYear'] = data['Dates'].dt.weekofyear\n    return data",
      "execution_count": null,
      "outputs": [],
      "metadata": {}
    },
    {
      "cell_type": "code",
      "source": "train = feature_engineering(train)",
      "execution_count": null,
      "outputs": [],
      "metadata": {}
    },
    {
      "cell_type": "code",
      "source": "test = feature_engineering(test)",
      "execution_count": null,
      "outputs": [],
      "metadata": {}
    },
    {
      "cell_type": "code",
      "source": "from sklearn.preprocessing import LabelEncoder",
      "execution_count": null,
      "outputs": [],
      "metadata": {}
    },
    {
      "cell_type": "code",
      "source": "enc = LabelEncoder()\ntrain['PdDistrict'] = enc.fit_transform(train['PdDistrict'])",
      "execution_count": null,
      "outputs": [],
      "metadata": {}
    },
    {
      "cell_type": "code",
      "source": "category_encoder = LabelEncoder()\ncategory_encoder.fit(train['Category'])\ntrain['CategoryEncoded'] = category_encoder.transform(train['Category'])\nprint(category_encoder.classes_)",
      "execution_count": null,
      "outputs": [],
      "metadata": {}
    },
    {
      "cell_type": "code",
      "source": "enc = LabelEncoder()\ntest['PdDistrict'] = enc.fit_transform(test['PdDistrict'])",
      "execution_count": null,
      "outputs": [],
      "metadata": {}
    },
    {
      "cell_type": "code",
      "source": "print(train.columns)\nprint(test.columns)",
      "execution_count": null,
      "outputs": [],
      "metadata": {}
    },
    {
      "cell_type": "code",
      "source": "x_cols = list(train.columns[2:12].values)\nx_cols.remove('Minute')\nprint(x_cols)",
      "execution_count": null,
      "outputs": [],
      "metadata": {}
    },
    {
      "cell_type": "code",
      "source": "from sklearn.ensemble import RandomForestClassifier\nclf = RandomForestClassifier(n_estimators = 10)",
      "execution_count": null,
      "outputs": [],
      "metadata": {}
    },
    {
      "cell_type": "code",
      "source": "clf.fit(train[x_cols], train['CategoryEncoded'])",
      "execution_count": null,
      "outputs": [],
      "metadata": {}
    },
    {
      "cell_type": "code",
      "source": "test['predictions'] = clf.predict(test[x_cols])",
      "execution_count": null,
      "outputs": [],
      "metadata": {}
    },
    {
      "cell_type": "code",
      "source": "def field_to_columns(data, field, new_columns):\n    for i in range(len(new_columns)):\n        data[new_columns[i]] = (data[field] == new_columns[i]).astype(int)\n    return data",
      "execution_count": null,
      "outputs": [],
      "metadata": {}
    },
    {
      "cell_type": "code",
      "source": "test['Category'] = category_encoder.inverse_transform(test['predictions'])",
      "execution_count": null,
      "outputs": [],
      "metadata": {}
    },
    {
      "cell_type": "code",
      "source": "categories = list(category_encoder.classes_)",
      "execution_count": null,
      "outputs": [],
      "metadata": {}
    },
    {
      "cell_type": "code",
      "source": "test = field_to_columns(test, 'Category', categories)",
      "execution_count": null,
      "outputs": [],
      "metadata": {}
    },
    {
      "cell_type": "code",
      "source": "import time\nPREDICTIONS_FILENAME_PREFIX = 'predictions_'\nPREDICTIONS_FILENAME = PREDICTIONS_FILENAME_PREFIX + time.strftime('%Y%m%d-%H%M%S') + '.csv'",
      "execution_count": null,
      "outputs": [],
      "metadata": {}
    },
    {
      "cell_type": "code",
      "source": "print(test.columns)",
      "execution_count": null,
      "outputs": [],
      "metadata": {}
    },
    {
      "cell_type": "code",
      "source": "submission_cols = [test.columns[0]]+list(test.columns[14:])\nprint(submission_cols)",
      "execution_count": null,
      "outputs": [],
      "metadata": {}
    },
    {
      "cell_type": "code",
      "source": "print(PREDICTIONS_FILENAME)\ntest[submission_cols].to_csv(PREDICTIONS_FILENAME, index = False)",
      "execution_count": null,
      "outputs": [],
      "metadata": {}
    }
  ]
}