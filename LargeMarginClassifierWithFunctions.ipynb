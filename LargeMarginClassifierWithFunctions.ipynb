{
 "cells": [
  {
   "cell_type": "code",
   "execution_count": 369,
   "metadata": {
    "collapsed": true
   },
   "outputs": [],
   "source": [
    "import numpy as np\n",
    "import pandas as pd\n",
    "import matplotlib.pyplot as plt\n",
    "%matplotlib inline\n",
    "import scipy.optimize as opt\n",
    "from sklearn.model_selection import train_test_split"
   ]
  },
  {
   "cell_type": "code",
   "execution_count": 370,
   "metadata": {
    "collapsed": false
   },
   "outputs": [
    {
     "data": {
      "text/plain": [
       "(1994, 121)"
      ]
     },
     "execution_count": 370,
     "metadata": {},
     "output_type": "execute_result"
    }
   ],
   "source": [
    "#data = pd.read_excel(\"C:/Users/Niku/Documents/dataset/datatest.xlsx\")\n",
    "data = pd.read_excel(\"C:/Users/Niku/Documents/Semester8/DataFiles/datasetnorm1.xlsx\")\n",
    "data.shape"
   ]
  },
  {
   "cell_type": "code",
   "execution_count": 371,
   "metadata": {
    "collapsed": false
   },
   "outputs": [],
   "source": [
    "Normdata = data\n",
    "Normdata = np.matrix(Normdata)\n",
    "for i in range(0, Normdata.shape[1]):\n",
    "    cur = Normdata[:, i]\n",
    "    mx = max(cur)*1.0\n",
    "    mn = min(cur)*1.0\n",
    "    for j in range(0, len(cur)):\n",
    "        cur[j] = (cur[j] - mn)/(mx - mn)\n",
    "    Normdata[:, i] = cur\n",
    "cols = Normdata.shape[1]\n",
    "X = Normdata[:,1:cols-1]\n",
    "y = Normdata[:,cols-1:cols]\n",
    "# convert to numpy arrays and initalize the parameter array theta\n",
    "#X = np.array(X.values)\n",
    "#y = np.array(y.values)"
   ]
  },
  {
   "cell_type": "code",
   "execution_count": 372,
   "metadata": {
    "collapsed": false
   },
   "outputs": [
    {
     "data": {
      "text/plain": [
       "(1994L, 119L)"
      ]
     },
     "execution_count": 372,
     "metadata": {},
     "output_type": "execute_result"
    }
   ],
   "source": [
    "X = np.matrix(X)\n",
    "y = np.matrix(y)\n",
    "X.shape"
   ]
  },
  {
   "cell_type": "code",
   "execution_count": 373,
   "metadata": {
    "collapsed": false
   },
   "outputs": [
    {
     "data": {
      "text/plain": [
       "matrix([[  2.70083291e-04,   4.07608696e-01,   1.41719251e-02, ...,\n",
       "           3.90701309e-04,   3.76057016e-02,   4.73207206e-02],\n",
       "        [  1.79390006e-03,   3.31521739e-01,   8.27557670e-03, ...,\n",
       "           1.95350654e-04,   9.73944130e-03,   6.81095450e-02],\n",
       "        [  2.64462823e-03,   2.25543478e-01,   7.65490845e-03, ...,\n",
       "           4.29771440e-03,   1.39491716e-01,   2.24076092e-01],\n",
       "        ..., \n",
       "        [  3.12052183e-03,   2.33695652e-01,   5.37912486e-03, ...,\n",
       "           1.56280524e-03,   4.98888558e-02,   1.68033739e-01],\n",
       "        [  4.84372160e-04,   3.50543478e-01,   3.48608669e-02, ...,\n",
       "           1.95350654e-04,   1.79893210e-02,   1.93463163e-01],\n",
       "        [  2.58363727e-03,   2.74456522e-01,   2.47232854e-02, ...,\n",
       "           3.90701309e-03,   1.51499874e-01,   3.22990767e-01]])"
      ]
     },
     "execution_count": 373,
     "metadata": {},
     "output_type": "execute_result"
    }
   ],
   "source": [
    "#X = X[0:1900]\n",
    "#y = y[0:1900]\n",
    "X"
   ]
  },
  {
   "cell_type": "code",
   "execution_count": 374,
   "metadata": {
    "collapsed": false
   },
   "outputs": [],
   "source": [
    "for i in range(len(y)):\n",
    "    if y[i] == 0:\n",
    "        y[i] = -1"
   ]
  },
  {
   "cell_type": "code",
   "execution_count": 375,
   "metadata": {
    "collapsed": false
   },
   "outputs": [],
   "source": [
    "#m = X_train.shape[0]\n",
    "#n = X_train.shape[1]\n",
    "#X_train = np.insert(X_train, 0, values=np.ones(X_train.shape[0]), axis=1)\n",
    "#X_test = np.insert(X_test, 0, values=np.ones(X_test.shape[0]), axis=1)\n",
    "#epochs = 2\n",
    "#k = 0\n",
    "#c = np.zeros(100000)\n",
    "#V = np.zeros((100000, n))\n",
    "#V = np.insert(V, 0, values=np.ones(V.shape[0]), axis=1)\n",
    "#print m, n, V.shape"
   ]
  },
  {
   "cell_type": "code",
   "execution_count": 376,
   "metadata": {
    "collapsed": true
   },
   "outputs": [],
   "source": [
    "def initialiseLMC():\n",
    "    c = np.zeros(100000)\n",
    "    V = np.zeros((100000, X_train.shape[1]-1))\n",
    "    V = np.insert(V, 0, values=np.ones(V.shape[0]), axis=1)\n",
    "    epochs = 2\n",
    "    k = 0\n",
    "    return V, c, k, epochs"
   ]
  },
  {
   "cell_type": "code",
   "execution_count": 377,
   "metadata": {
    "collapsed": false,
    "scrolled": true
   },
   "outputs": [],
   "source": [
    "def trainLMC(X_train, y_train, V, c, epochs, m, k):\n",
    "    m = X_train.shape[0]\n",
    "    n = X_train.shape[1]\n",
    "    c = np.zeros(100000)\n",
    "    #V = np.zeros((996, n))\n",
    "    #V = np.insert(V, 0, values=np.ones(V.shape[0]), axis=1)\n",
    "    for e in range(epochs):\n",
    "        print e\n",
    "        print V.shape\n",
    "        for i in range(0, m-1):\n",
    "            y_pred = np.sign(np.dot(X_train[i], V[k].T))\n",
    "            if y_pred == y_train[i]:\n",
    "                c[k+1] = c[k] + 1\n",
    "            else:\n",
    "                d = np.asscalar(y_train[i])\n",
    "                p = V[k] + (d*X_train[i]).T\n",
    "                V[k+1] = V[k] + (d*X_train[i])\n",
    "                c[k+1] = 1\n",
    "                k = k + 1\n",
    "    print 'Done training' \n",
    "    print k\n",
    "    return V, c, k"
   ]
  },
  {
   "cell_type": "code",
   "execution_count": 378,
   "metadata": {
    "collapsed": false,
    "scrolled": true
   },
   "outputs": [],
   "source": [
    "def predictLMC(X_test, V, c, k):\n",
    "    y_LMC = np.zeros(X_test.shape[0])\n",
    "    a = np.zeros(k)\n",
    "    for j in range(0, X_test.shape[0]):\n",
    "        for i in range(0, k):\n",
    "            a[i] = c[i] * np.sign(np.dot(X_test[j], V[i].T))\n",
    "            s = np.sum(a)\n",
    "            y_LMC[j] = np.sign(s)\n",
    "    print 'Test Data Created'\n",
    "    return y_LMC"
   ]
  },
  {
   "cell_type": "code",
   "execution_count": 379,
   "metadata": {
    "collapsed": false
   },
   "outputs": [
    {
     "name": "stdout",
     "output_type": "stream",
     "text": [
      "0\n",
      "(100000L, 120L)\n",
      "1\n",
      "(100000L, 120L)\n",
      "Done training\n",
      "433\n",
      "Test Data Created\n",
      "accuracy = 85.4563691073%\n",
      "0\n",
      "(100000L, 120L)\n",
      "1\n",
      "(100000L, 120L)\n",
      "Done training\n",
      "444\n",
      "Test Data Created\n",
      "accuracy = 85.2557673019%\n"
     ]
    }
   ],
   "source": [
    "for i in range(0,2):\n",
    "    X_train, X_test, y_train, y_test = train_test_split(X, y, test_size = 0.5)\n",
    "    X_train = np.insert(X_train, 0, values=np.ones(X_train.shape[0]), axis=1)\n",
    "    X_test = np.insert(X_test, 0, values=np.ones(X_test.shape[0]), axis=1)\n",
    "    V, c, k, epochs = initialiseLMC()\n",
    "    V, c, k = trainLMC(X_train, y_train, V, c, epochs, m, k)\n",
    "    y_LMC = predictLMC(X_test, V ,c, k)\n",
    "    y_LMC[y_LMC == 0] = 1\n",
    "    correct = [1 if a == b else 0 for (a, b) in zip(y_LMC, y_test)]\n",
    "    accuracy = (sum(map(int, correct)) / float(len(correct)))\n",
    "    print 'accuracy = {0}%'.format(accuracy * 100)"
   ]
  },
  {
   "cell_type": "code",
   "execution_count": 380,
   "metadata": {
    "collapsed": false
   },
   "outputs": [
    {
     "name": "stdout",
     "output_type": "stream",
     "text": [
      "[-1.  1.] [601 396]\n",
      "[-1.  1.] [592 405]\n"
     ]
    }
   ],
   "source": [
    "u1, c1 = np.unique(y_LMC, return_counts=True)\n",
    "print u1, c1\n",
    "u2, c2 = np.unique(np.array(y_test), return_counts=True)\n",
    "print u2, c2"
   ]
  },
  {
   "cell_type": "code",
   "execution_count": null,
   "metadata": {
    "collapsed": true
   },
   "outputs": [],
   "source": []
  }
 ],
 "metadata": {
  "kernelspec": {
   "display_name": "Python 2",
   "language": "python",
   "name": "python2"
  }
 },
 "nbformat": 4,
 "nbformat_minor": 2
}
