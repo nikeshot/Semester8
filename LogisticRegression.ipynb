{
 "cells": [
  {
   "cell_type": "code",
   "execution_count": 616,
   "metadata": {
    "collapsed": true
   },
   "outputs": [],
   "source": [
    "import numpy as np\n",
    "import pandas as pd\n",
    "from sklearn.model_selection import train_test_split\n",
    "from collections import Counter, defaultdict\n",
    "import pylab as pl\n",
    "import matplotlib.pyplot as plt\n",
    "from sklearn.metrics import accuracy_score, f1_score, precision_score, recall_score, classification_report, confusion_matrix"
   ]
  },
  {
   "cell_type": "code",
   "execution_count": 617,
   "metadata": {
    "collapsed": false
   },
   "outputs": [
    {
     "name": "stdout",
     "output_type": "stream",
     "text": [
      "(75000, 13)\n",
      "(75000, 16)\n"
     ]
    }
   ],
   "source": [
    "data = pd.read_excel(\"C:\\Users\\Niku\\Documents\\ML Project\\data7.5k.xlsx\")\n",
    "print data.shape\n",
    "data['Date'] = pd.to_datetime(data['Date'])\n",
    "data['Year'] = data['Date'].dt.year\n",
    "data['Month'] = data['Date'].dt.month\n",
    "data['DateOnly'] = data['Date'].dt.day\n",
    "data_frame = data[['DayOfWeek', 'PdDistrict', 'X', 'Y', 'Year', 'Month', 'DateOnly', 'Time', 'Category']]\n",
    "print data.shape"
   ]
  },
  {
   "cell_type": "code",
   "execution_count": 618,
   "metadata": {
    "collapsed": false
   },
   "outputs": [
    {
     "name": "stdout",
     "output_type": "stream",
     "text": [
      "   DayOfWeek  PdDistrict       X      Y  Year  Month  DateOnly      Time  \\\n",
      "0          6           0 -122.40  37.72  2003      1         1  00:30:00   \n",
      "1          6           0 -122.38  37.73  2003      1         1  00:01:00   \n",
      "2          6           2 -122.45  37.71  2003      1         1  00:01:00   \n",
      "3          6           0 -122.39  37.73  2003      1         1  07:18:00   \n",
      "4          6           8 -122.48  37.76  2003      1         1  00:01:00   \n",
      "\n",
      "   Category  \n",
      "0        16  \n",
      "1        13  \n",
      "2        12  \n",
      "3        35  \n",
      "4        31  \n"
     ]
    }
   ],
   "source": [
    "Categories = list(enumerate(sorted(np.unique(data_frame['Category']))))\n",
    "DaysOfWeeks = list(enumerate(sorted(np.unique(data_frame['DayOfWeek']))))\n",
    "PdDistricts = list(enumerate(sorted(np.unique(data_frame['PdDistrict']))))\n",
    "CategoriesDict = {name: i for i, name in Categories}\n",
    "DaysOfWeeksDict = {name: i for i, name in DaysOfWeeks}\n",
    "PdDistrictsDict = {name: i for i, name in PdDistricts}\n",
    "data_frame.Category = data_frame.Category.map(lambda x: CategoriesDict[x]).astype(int)\n",
    "data_frame.DayOfWeek = data_frame.DayOfWeek.map(lambda x: DaysOfWeeksDict[x]).astype(int)\n",
    "data_frame.PdDistrict = data_frame.PdDistrict.map(lambda x: PdDistrictsDict[x]).astype(int)\n",
    "data_frame.X = data_frame.X.map(lambda x: \"%.2f\" % round(x, 2)).astype(float)\n",
    "data_frame.Y = data_frame.Y.map(lambda x: \"%.2f\" % round(x, 2)).astype(float)\n",
    "print data_frame.head()"
   ]
  },
  {
   "cell_type": "code",
   "execution_count": 619,
   "metadata": {
    "collapsed": false
   },
   "outputs": [],
   "source": [
    "X = data_frame[['DayOfWeek', 'PdDistrict', 'X', 'Y', 'Year', 'Month', 'DateOnly']]\n",
    "y = data_frame[['Category']]\n",
    "X = np.matrix(X)\n",
    "y = np.matrix(y)"
   ]
  },
  {
   "cell_type": "code",
   "execution_count": 620,
   "metadata": {
    "collapsed": false
   },
   "outputs": [
    {
     "name": "stdout",
     "output_type": "stream",
     "text": [
      "(37500L, 7L)\n",
      "(37500L, 7L)\n",
      "(37500L, 1L)\n",
      "<class 'numpy.matrixlib.defmatrix.matrix'>\n"
     ]
    }
   ],
   "source": [
    "X_train, X_test, y_train, y_test = train_test_split(X, y, test_size = 0.5, random_state=1)\n",
    "print X_train.shape\n",
    "print X_test.shape\n",
    "print y_test.shape\n",
    "print type(y_train)"
   ]
  },
  {
   "cell_type": "code",
   "execution_count": 621,
   "metadata": {
    "collapsed": true
   },
   "outputs": [],
   "source": [
    "def g(z):\n",
    "    temp = 1 + np.exp(-z)\n",
    "    temp2 = 1/temp\n",
    "    return temp2"
   ]
  },
  {
   "cell_type": "code",
   "execution_count": 622,
   "metadata": {
    "collapsed": true
   },
   "outputs": [],
   "source": [
    "def gradient(theta, X, y, alpha):\n",
    "    X = np.matrix(X)\n",
    "    y = np.matrix(y)\n",
    "    theta = np.matrix(theta)\n",
    "    hofx = g(X*theta.T)\n",
    "    err = hofx - y\n",
    "    term1 = ((X.T * err) / len(X)).T \n",
    "    term2 = ((alpha / len(X)) * theta)\n",
    "    grad = term1 + term2\n",
    "    zero_intercept = np.multiply(err, X[:,0])\n",
    "    grad[0, 0] = np.sum(zero_intercept)\n",
    "    return np.array(grad).ravel()"
   ]
  },
  {
   "cell_type": "code",
   "execution_count": 623,
   "metadata": {
    "collapsed": false
   },
   "outputs": [],
   "source": [
    "def costFunction(theta, X, y, alpha):\n",
    "    theta = np.matrix(theta)\n",
    "    #hofx = g(X*theta.T)\n",
    "    #term1 = np.multiply(y, np.log(hofx))\n",
    "    #term2 = np.multiply((1-y), np.log(1-hofx))\n",
    "    #par_to_regul = theta[:,1:theta.shape[1]]\n",
    "    #sqr_term = np.power(par_to_regul, 2)\n",
    "    #regul_term = alpha*len(X)*np.sum(sqr_term)\n",
    "    #cost = np.sum(((-term1)+(-term2))/len(X)) + regul_term\n",
    "    first = np.multiply(-y, np.log(g(X * theta.T)))\n",
    "    second = np.multiply((1 - y), np.log(1 - g(X * theta.T)))\n",
    "    reg = (alpha / 2 * len(X)) * np.sum(np.power(theta[:,1:theta.shape[1]], 2))\n",
    "    return np.sum(first - second) / (len(X)) + reg\n",
    "    #return cost"
   ]
  },
  {
   "cell_type": "code",
   "execution_count": 624,
   "metadata": {
    "collapsed": true
   },
   "outputs": [],
   "source": [
    "from scipy.optimize import minimize\n",
    "\n",
    "def one_vs_all(X, y, num_labels, learning_rate):\n",
    "    rows = X.shape[0]\n",
    "    params = X.shape[1]\n",
    "    \n",
    "    # k X (n + 1) array for the parameters of each of the k classifiers\n",
    "    all_theta = np.zeros((num_labels, params + 1))\n",
    "    \n",
    "    # insert a column of ones at the beginning for the intercept term\n",
    "    X = np.insert(X, 0, values=np.ones(rows), axis=1)\n",
    "    \n",
    "    # labels are 1-indexed instead of 0-indexed\n",
    "    for i in range(1, num_labels + 1):\n",
    "        theta = np.zeros(params + 1)\n",
    "        y_i = np.array([1 if label == i else 0 for label in y])\n",
    "        y_i = np.reshape(y_i, (rows, 1))\n",
    "        \n",
    "        # minimize the objective function\n",
    "        fmin = minimize(fun=costFunction, x0=theta, args=(X, y_i, learning_rate), method='TNC', jac=gradient)\n",
    "        all_theta[i-1,:] = fmin.x\n",
    "    \n",
    "    return all_theta"
   ]
  },
  {
   "cell_type": "code",
   "execution_count": 625,
   "metadata": {
    "collapsed": false
   },
   "outputs": [
    {
     "data": {
      "text/plain": [
       "((75000L, 8L), (75000L, 1L), (8L,), (31L, 8L))"
      ]
     },
     "execution_count": 625,
     "metadata": {},
     "output_type": "execute_result"
    }
   ],
   "source": [
    "rows = X.shape[0]\n",
    "params = X.shape[1]\n",
    "y = np.matrix(y)\n",
    "all_theta = np.zeros((31, params + 1))\n",
    "\n",
    "X = np.insert(X, 0, values=np.ones(rows), axis=1)\n",
    "\n",
    "theta = np.zeros(params + 1)\n",
    "\n",
    "y_0 = np.array([1 if label == 0 else 0 for label in y])\n",
    "y_0 = np.reshape(y_0, (rows, 1))\n",
    "\n",
    "X.shape, y_0.shape, theta.shape, all_theta.shape"
   ]
  },
  {
   "cell_type": "code",
   "execution_count": 626,
   "metadata": {
    "collapsed": false
   },
   "outputs": [
    {
     "name": "stderr",
     "output_type": "stream",
     "text": [
      "C:\\ProgramData\\Anaconda2\\lib\\site-packages\\ipykernel\\__main__.py:11: RuntimeWarning: divide by zero encountered in log\n",
      "C:\\ProgramData\\Anaconda2\\lib\\site-packages\\ipykernel\\__main__.py:11: RuntimeWarning: invalid value encountered in multiply\n",
      "C:\\ProgramData\\Anaconda2\\lib\\site-packages\\ipykernel\\__main__.py:12: RuntimeWarning: invalid value encountered in power\n",
      "C:\\ProgramData\\Anaconda2\\lib\\site-packages\\ipykernel\\__main__.py:2: RuntimeWarning: overflow encountered in exp\n",
      "  from ipykernel import kernelapp as app\n",
      "C:\\ProgramData\\Anaconda2\\lib\\site-packages\\ipykernel\\__main__.py:10: RuntimeWarning: divide by zero encountered in log\n",
      "C:\\ProgramData\\Anaconda2\\lib\\site-packages\\ipykernel\\__main__.py:10: RuntimeWarning: invalid value encountered in multiply\n"
     ]
    }
   ],
   "source": [
    "all_theta = one_vs_all(X_train, y_train, y_train.max(), 1)"
   ]
  },
  {
   "cell_type": "code",
   "execution_count": 627,
   "metadata": {
    "collapsed": true
   },
   "outputs": [],
   "source": [
    "def predict_all(X, all_theta):\n",
    "    rows = X.shape[0]\n",
    "    params = X.shape[1]\n",
    "    num_labels = all_theta.shape[0]\n",
    "    \n",
    "    # same as before, insert ones to match the shape\n",
    "    X = np.insert(X, 0, values=np.ones(rows), axis=1)\n",
    "    \n",
    "    # convert to matrices\n",
    "    X = np.matrix(X)\n",
    "    all_theta = np.matrix(all_theta)\n",
    "    \n",
    "    # compute the class probability for each class on each training instance\n",
    "    h = g(X * all_theta.T)\n",
    "    \n",
    "    # create array of the index with the maximum probability\n",
    "    h_argmax = np.argmax(h, axis=1)\n",
    "    \n",
    "    # because our array was zero-indexed we need to add one for the true label prediction\n",
    "    h_argmax = h_argmax + 1\n",
    "    \n",
    "    return h_argmax"
   ]
  },
  {
   "cell_type": "code",
   "execution_count": 628,
   "metadata": {
    "collapsed": false
   },
   "outputs": [
    {
     "name": "stdout",
     "output_type": "stream",
     "text": [
      "accuracy = 17.9093333333%\n"
     ]
    }
   ],
   "source": [
    "y_pred = predict_all(X_test, all_theta)\n",
    "correct = [1 if a == b else 0 for (a, b) in zip(y_pred, y_test)]\n",
    "accuracy = (sum(map(int, correct)) / float(len(correct)))\n",
    "print 'accuracy = {0}%'.format(accuracy * 100)"
   ]
  },
  {
   "cell_type": "code",
   "execution_count": null,
   "metadata": {
    "collapsed": true
   },
   "outputs": [],
   "source": []
  }
 ],
 "metadata": {
  "kernelspec": {
   "display_name": "Python 2",
   "language": "python",
   "name": "python2"
  },
  "language_info": {
   "codemirror_mode": {
    "name": "ipython",
    "version": 2
   },
   "file_extension": ".py",
   "mimetype": "text/x-python",
   "name": "python",
   "nbconvert_exporter": "python",
   "pygments_lexer": "ipython2",
   "version": "2.7.13"
  }
 },
 "nbformat": 4,
 "nbformat_minor": 2
}
